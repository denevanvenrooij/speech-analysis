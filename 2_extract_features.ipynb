{
 "cells": [
  {
   "cell_type": "code",
   "execution_count": 25,
   "metadata": {},
   "outputs": [
    {
     "data": {
      "text/plain": [
       "<module 'features' from '/home/dene/rp2/features.py'>"
      ]
     },
     "execution_count": 25,
     "metadata": {},
     "output_type": "execute_result"
    }
   ],
   "source": [
    "import importlib\n",
    "import functions_praat\n",
    "import features\n",
    "importlib.reload(functions_praat)\n",
    "importlib.reload(features)"
   ]
  },
  {
   "cell_type": "code",
   "execution_count": 26,
   "metadata": {},
   "outputs": [],
   "source": [
    "from paths import *\n",
    "from features import *\n",
    "from functions_praat import *\n",
    "from functions_disvoice import *\n",
    "import pandas as pd"
   ]
  },
  {
   "cell_type": "code",
   "execution_count": 27,
   "metadata": {},
   "outputs": [],
   "source": [
    "def extract_features_VOW(audio_file, selected_features, segment_length, f0_min, f0_max, point_step, time_step, max_frequency, num_formants):\n",
    "    extracted_features = {}\n",
    "    if 'PP_F0' in selected_features:\n",
    "        extracted_features['PP_F0'] = PP_f0_mean(audio_file, f0_min=f0_min, f0_max=f0_max)\n",
    "    if 'PP_F0_M' in selected_features:\n",
    "        extracted_features['PP_F0_M'] = PP_f0_mean_murton(audio_file, f0_min=f0_min, f0_max=f0_max)\n",
    "    if 'PP_F0_SD' in selected_features:\n",
    "        extracted_features['PP_F0_SD'] = PP_f0_sd(audio_file, f0_min=f0_min, f0_max=f0_max)\n",
    "    if 'PP_F0_SD_M' in selected_features:\n",
    "        extracted_features['PP_F0_SD_M'] = PP_f0_sd_murton(audio_file, f0_min=f0_min, f0_max=f0_max)\n",
    "\n",
    "    if 'PP_LHR' in selected_features:\n",
    "        extracted_features['PP_LHR'] = PP_lh_ratio(audio_file)\n",
    "    if 'PP_LHR_M' in selected_features:\n",
    "        extracted_features['PP_LHR_M'] = PP_LH_ratio_murton(audio_file, segment_length=segment_length)\n",
    "\n",
    "    if 'PP_CPP_M' in selected_features:\n",
    "        extracted_features['PP_CPP_M'] = PP_CPP_mean_murton(audio_file)\n",
    "    if 'PP_CPP_M2' in selected_features:\n",
    "        extracted_features['PP_CPP_M2'] = PP_CPP_median_murton(audio_file)\n",
    "    if 'PP_CPP_SD_M' in selected_features:\n",
    "        extracted_features['PP_CPP_SD_M'] = PP_CPP_sd_murton(audio_file)\n",
    "\n",
    "    if 'PP_HNR' in selected_features:\n",
    "        extracted_features['PP_HNR'] = PP_harmonics_to_noise(audio_file)\n",
    "    if 'PP_HNR_M' in selected_features:\n",
    "        extracted_features['PP_HNR_M'] = PP_harmonics_to_noise_murton(audio_file, segment_length=segment_length)\n",
    "\n",
    "    if 'PP_JIT' in selected_features:\n",
    "        jitter_values = PP_jitter(audio_file, f0_min=f0_min, f0_max=f0_max) \n",
    "        for feature in jitter_feature_selection:\n",
    "            if feature in jitter_feature_indices:\n",
    "                feature_idx = jitter_feature_indices[feature]            \n",
    "                extracted_features[f'PP_JIT_{feature}'] = jitter_values[feature_idx]  \n",
    "    if 'PP_JIT_M' in selected_features:\n",
    "        jitter_values = PP_jitter_murton(audio_file, segment_length=segment_length, f0_min=f0_min, f0_max=f0_max) \n",
    "        for feature in jitter_feature_selection:\n",
    "            if feature in jitter_feature_indices:\n",
    "                feature_idx = jitter_feature_indices[feature]            \n",
    "                extracted_features[f'PP_JIT_M_{feature}'] = jitter_values[feature_idx]    \n",
    "\n",
    "    if 'PP_SHI' in selected_features:\n",
    "        shimmer_values = PP_shimmer(audio_file, f0_min=f0_min, f0_max=f0_max) \n",
    "        for feature in shimmer_feature_selection:\n",
    "            if feature in shimmer_feature_indices:\n",
    "                feature_idx = shimmer_feature_indices[feature]            \n",
    "                extracted_features[f'PP_SHI_{feature}'] = shimmer_values[feature_idx]\n",
    "    if 'PP_SHI_M' in selected_features:\n",
    "        shimmer_values = PP_shimmer_murton(audio_file, segment_length=segment_length, f0_min=f0_min, f0_max=f0_max) \n",
    "        for feature in shimmer_feature_selection:\n",
    "            if feature in shimmer_feature_indices:\n",
    "                feature_idx = shimmer_feature_indices[feature]            \n",
    "                extracted_features[f'PP_SHI_M_{feature}'] = shimmer_values[feature_idx]\n",
    "    \n",
    "    if 'PP_GF_MEA' in selected_features:\n",
    "        mean_glottal_formant_values = PP_glottal_formants_mean(audio_file, f0_min=f0_min, f0_max=f0_max, point_step=point_step, max_frequency=max_frequency, num_formants=num_formants)\n",
    "        for i in range(len(mean_glottal_formant_values)): \n",
    "            extracted_features[f'PP_GF{i+1}_MEA'] = mean_glottal_formant_values[i]\n",
    "    if 'PP_GF_MED' in selected_features:\n",
    "        median_glottal_formant_values = PP_glottal_formants_median(audio_file, f0_min=f0_min, f0_max=f0_max, point_step=point_step, max_frequency=max_frequency, num_formants=num_formants)\n",
    "        for i in range(len(median_glottal_formant_values)): \n",
    "            extracted_features[f'PP_GF{i+1}_MED'] = median_glottal_formant_values[i]            \n",
    "    if 'PP_GF_SD' in selected_features:\n",
    "        sd_glottal_formant_values = PP_glottal_formants_sd(audio_file, f0_min=f0_min, f0_max=f0_max, point_step=point_step, max_frequency=max_frequency, num_formants=num_formants)\n",
    "        for i in range(len(sd_glottal_formant_values)): \n",
    "            extracted_features[f'PP_GF{i+1}_SD'] = sd_glottal_formant_values[i]        \n",
    "\n",
    "    if 'PP_F_MEA' in selected_features:\n",
    "        mean_formant_values = PP_formants_mean(audio_file, time_step=time_step, max_frequency=max_frequency, num_formants=num_formants)\n",
    "        for i in range(len(mean_formant_values)): \n",
    "            extracted_features[f'PP_F{i+1}_MEA'] = mean_formant_values[i]\n",
    "    if 'PP_F_MED' in selected_features:\n",
    "        median_formant_values = PP_formants_median(audio_file, time_step=time_step, max_frequency=max_frequency, num_formants=num_formants)\n",
    "        for i in range(len(median_formant_values)): \n",
    "            extracted_features[f'PP_F{i+1}_MED'] = median_formant_values[i]            \n",
    "    if 'PP_F_SD' in selected_features:\n",
    "        sd_formant_values = PP_formants_sd(audio_file, time_step=time_step, max_frequency=max_frequency, num_formants=num_formants)\n",
    "        for i in range(len(sd_formant_values)): \n",
    "            extracted_features[f'PP_F{i+1}_SD'] = sd_formant_values[i]\n",
    "    \n",
    "    if 'DV_PHO' in selected_features: \n",
    "        phonation_features = DV_phonation(audio_file)\n",
    "        for feature in phonation_features.columns:\n",
    "            extracted_features[f'DV_PHO_{feature}'] = phonation_features[feature].values[0]     \n",
    "    if 'DV_GLO' in selected_features:\n",
    "        glottal_features = DV_glottal(audio_file)\n",
    "        for feature in glottal_features.columns:\n",
    "            extracted_features[f'DV_GLO_{feature}'] = glottal_features[feature].values[0]        \n",
    "            \n",
    "    return extracted_features"
   ]
  },
  {
   "cell_type": "code",
   "execution_count": 28,
   "metadata": {},
   "outputs": [],
   "source": [
    "def extract_features_SEN(audio_file, selected_features, f0_min, f0_max, silence_threshold, min_silence_duration, segment_length, num_coefficients, time_step, max_frequency, num_formants):\n",
    "    extracted_features = {}\n",
    "    \n",
    "    if 'PP_F0' in selected_features:\n",
    "        extracted_features['PP_F0'] = PP_f0_median(audio_file, f0_min=f0_min, f0_max=f0_max)    \n",
    "    if 'PP_F0_M' in selected_features:\n",
    "        extracted_features['PP_F0_M'] = PP_f0_median_murton(audio_file, f0_min=f0_min, f0_max=f0_max)  \n",
    "    if 'PP_F0_SD' in selected_features:\n",
    "        extracted_features['PP_F0_SD'] = PP_f0_sd(audio_file, f0_min=f0_min, f0_max=f0_max)\n",
    "    if 'PP_F0_SD_M' in selected_features:\n",
    "        extracted_features['PP_F0_SD_M'] = PP_f0_sd_murton(audio_file, f0_min=f0_min, f0_max=f0_max)\n",
    "        \n",
    "    if 'PP_CPP_M' in selected_features:\n",
    "        extracted_features['PP_CPP_M'] = PP_CPP_mean_murton(audio_file)\n",
    "    if 'PP_CPP_M2' in selected_features:\n",
    "        extracted_features['PP_CPP_M2'] = PP_CPP_median_murton(audio_file)\n",
    "    if 'PP_CPP_SD_M' in selected_features:\n",
    "        extracted_features['PP_CPP_SD_M'] = PP_CPP_sd_murton(audio_file)\n",
    "        \n",
    "    if 'PP_DUR_WP' in selected_features:\n",
    "        extracted_features['PP_DUR_WP'] = PP_duration_with_pauses(audio_file, silence_threshold)\n",
    "    if 'PP_DUR_WOP' in selected_features:\n",
    "        extracted_features['PP_DUR_WOP'] = PP_duration_without_pauses(audio_file, silence_threshold, min_silence_duration)\n",
    "\n",
    "    if 'PP_JIT' in selected_features:\n",
    "        jitter_values = PP_jitter(audio_file, f0_min=f0_min, f0_max=f0_max) \n",
    "        for feature in jitter_feature_selection:\n",
    "            if feature in jitter_feature_indices:\n",
    "                feature_idx = jitter_feature_indices[feature]            \n",
    "                extracted_features[f'PP_JIT_{feature}'] = jitter_values[feature_idx]  \n",
    "    if 'PP_JIT_M' in selected_features:\n",
    "        jitter_values = PP_jitter_murton(audio_file, segment_length=segment_length, f0_min=f0_min, f0_max=f0_max) \n",
    "        for feature in jitter_feature_selection:\n",
    "            if feature in jitter_feature_indices:\n",
    "                feature_idx = jitter_feature_indices[feature]            \n",
    "                extracted_features[f'PP_JIT_M_{feature}'] = jitter_values[feature_idx]    \n",
    "                    \n",
    "    if 'PP_SHI' in selected_features:\n",
    "        shimmer_values = PP_shimmer(audio_file, f0_min=f0_min, f0_max=f0_max) \n",
    "        for feature in shimmer_feature_selection:\n",
    "            if feature in shimmer_feature_indices:\n",
    "                feature_idx = shimmer_feature_indices[feature]            \n",
    "                extracted_features[f'PP_SHI_{feature}'] = shimmer_values[feature_idx]\n",
    "    if 'PP_SHI_M' in selected_features:\n",
    "        shimmer_values = PP_shimmer_murton(audio_file, segment_length=segment_length, f0_min=f0_min, f0_max=f0_max) \n",
    "        for feature in shimmer_feature_selection:\n",
    "            if feature in shimmer_feature_indices:\n",
    "                feature_idx = shimmer_feature_indices[feature]            \n",
    "                extracted_features[f'PP_SHI_M_{feature}'] = shimmer_values[feature_idx]\n",
    "\n",
    "    if 'PP_MFC' in selected_features:\n",
    "        mfc_values = PP_MFCC(audio_file)\n",
    "        for i in range(num_coefficients):\n",
    "            for feature in mfc_feature_selection:\n",
    "                if feature in mfc_feature_indices:\n",
    "                    feature_idx = mfc_feature_indices[feature]\n",
    "                    extracted_features[f'PP_MFC_{i+1}_{feature}'] = mfc_values[i+(num_coefficients*feature_idx)]\n",
    "\n",
    "    if 'PP_F_MEA' in selected_features:\n",
    "        mean_formant_values = PP_formants_mean(audio_file, time_step=time_step, max_frequency=max_frequency, num_formants=num_formants)\n",
    "        for i in range(len(mean_formant_values)): \n",
    "            extracted_features[f'PP_F{i+1}_MEA'] = mean_formant_values[i]\n",
    "    if 'PP_F_MED' in selected_features:\n",
    "        median_formant_values = PP_formants_median(audio_file, time_step=time_step, max_frequency=max_frequency, num_formants=num_formants)\n",
    "        for i in range(len(median_formant_values)): \n",
    "            extracted_features[f'PP_F{i+1}_MED'] = median_formant_values[i]            \n",
    "    if 'PP_F_SD' in selected_features:\n",
    "        sd_formant_values = PP_formants_sd(audio_file, time_step=time_step, max_frequency=max_frequency, num_formants=num_formants)\n",
    "        for i in range(len(sd_formant_values)): \n",
    "            extracted_features[f'PP_F{i+1}_SD'] = sd_formant_values[i]  \n",
    "\n",
    "    if 'DV_PRO' in selected_features:\n",
    "        prosody_features = DV_prosody(audio_file)\n",
    "        for feature in prosody_features.columns:\n",
    "            extracted_features[f'DV_PRO_{feature}'] = prosody_features[feature].values[0]\n",
    "    if 'DV_PHO' in selected_features: \n",
    "        phonation_features = DV_phonation(audio_file)\n",
    "        for feature in phonation_features.columns:\n",
    "            extracted_features[f'DV_PHO_{feature}'] = phonation_features[feature].values[0]     \n",
    "\n",
    "    return extracted_features"
   ]
  },
  {
   "cell_type": "code",
   "execution_count": 29,
   "metadata": {},
   "outputs": [],
   "source": [
    "def extract_features_SPN(audio_file, selected_features, f0_min, f0_max, silence_threshold, min_silence_duration, segment_length, num_coefficients, time_step, max_frequency, num_formants):\n",
    "    extracted_features = {}\n",
    "    \n",
    "    if 'PP_F0' in selected_features:\n",
    "        extracted_features['PP_F0'] = PP_f0_median(audio_file, f0_min=f0_min, f0_max=f0_max)    \n",
    "    if 'PP_F0_M' in selected_features:\n",
    "        extracted_features['PP_F0_M'] = PP_f0_median_murton(audio_file, f0_min=f0_min, f0_max=f0_max)  \n",
    "    if 'PP_F0_SD' in selected_features:\n",
    "        extracted_features['PP_F0_SD'] = PP_f0_sd(audio_file, f0_min=f0_min, f0_max=f0_max)\n",
    "    if 'PP_F0_SD_M' in selected_features:\n",
    "        extracted_features['PP_F0_SD_M'] = PP_f0_sd_murton(audio_file, f0_min=f0_min, f0_max=f0_max)\n",
    "        \n",
    "    if 'PP_CPP_M' in selected_features:\n",
    "        extracted_features['PP_CPP_M'] = PP_CPP_mean_murton(audio_file)\n",
    "    if 'PP_CPP_M2' in selected_features:\n",
    "        extracted_features['PP_CPP_M2'] = PP_CPP_median_murton(audio_file)\n",
    "    if 'PP_CPP_SD_M' in selected_features:\n",
    "        extracted_features['PP_CPP_SD_M'] = PP_CPP_sd_murton(audio_file)\n",
    "        \n",
    "    if 'PP_DUR_WP' in selected_features:\n",
    "        extracted_features['PP_DUR_WP'] = PP_duration_with_pauses(audio_file, silence_threshold)\n",
    "    if 'PP_DUR_WOP' in selected_features:\n",
    "        extracted_features['PP_DUR_WOP'] = PP_duration_without_pauses(audio_file, silence_threshold, min_silence_duration)\n",
    "\n",
    "    if 'PP_JIT' in selected_features:\n",
    "        jitter_values = PP_jitter(audio_file, f0_min=f0_min, f0_max=f0_max) \n",
    "        for feature in jitter_feature_selection:\n",
    "            if feature in jitter_feature_indices:\n",
    "                feature_idx = jitter_feature_indices[feature]            \n",
    "                extracted_features[f'PP_JIT_{feature}'] = jitter_values[feature_idx]  \n",
    "    if 'PP_JIT_M' in selected_features:\n",
    "        jitter_values = PP_jitter_murton(audio_file, segment_length=segment_length, f0_min=f0_min, f0_max=f0_max) \n",
    "        for feature in jitter_feature_selection:\n",
    "            if feature in jitter_feature_indices:\n",
    "                feature_idx = jitter_feature_indices[feature]            \n",
    "                extracted_features[f'PP_JIT_M_{feature}'] = jitter_values[feature_idx]    \n",
    "                    \n",
    "    if 'PP_SHI' in selected_features:\n",
    "        shimmer_values = PP_shimmer(audio_file, f0_min=f0_min, f0_max=f0_max) \n",
    "        for feature in shimmer_feature_selection:\n",
    "            if feature in shimmer_feature_indices:\n",
    "                feature_idx = shimmer_feature_indices[feature]            \n",
    "                extracted_features[f'PP_SHI_{feature}'] = shimmer_values[feature_idx]\n",
    "    if 'PP_SHI_M' in selected_features:\n",
    "        shimmer_values = PP_shimmer_murton(audio_file, segment_length=segment_length, f0_min=f0_min, f0_max=f0_max) \n",
    "        for feature in shimmer_feature_selection:\n",
    "            if feature in shimmer_feature_indices:\n",
    "                feature_idx = shimmer_feature_indices[feature]            \n",
    "                extracted_features[f'PP_SHI_M_{feature}'] = shimmer_values[feature_idx]\n",
    "\n",
    "    if 'PP_MFC' in selected_features:\n",
    "        mfc_values = PP_MFCC(audio_file)\n",
    "        for i in range(num_coefficients):\n",
    "            for feature in mfc_feature_selection:\n",
    "                if feature in mfc_feature_indices:\n",
    "                    feature_idx = mfc_feature_indices[feature]\n",
    "                    extracted_features[f'PP_MFC_{i+1}_{feature}'] = mfc_values[i+(num_coefficients*feature_idx)]\n",
    "\n",
    "    if 'PP_F_MEA' in selected_features:\n",
    "        mean_formant_values = PP_formants_mean(audio_file, time_step=time_step, max_frequency=max_frequency, num_formants=num_formants)\n",
    "        for i in range(len(mean_formant_values)): \n",
    "            extracted_features[f'PP_F{i+1}_MEA'] = mean_formant_values[i]\n",
    "    if 'PP_F_MED' in selected_features:\n",
    "        median_formant_values = PP_formants_median(audio_file, time_step=time_step, max_frequency=max_frequency, num_formants=num_formants)\n",
    "        for i in range(len(median_formant_values)): \n",
    "            extracted_features[f'PP_F{i+1}_MED'] = median_formant_values[i]            \n",
    "    if 'PP_F_SD' in selected_features:\n",
    "        sd_formant_values = PP_formants_sd(audio_file, time_step=time_step, max_frequency=max_frequency, num_formants=num_formants)\n",
    "        for i in range(len(sd_formant_values)): \n",
    "            extracted_features[f'PP_F{i+1}_SD'] = sd_formant_values[i]  \n",
    "\n",
    "    if 'DV_PHO' in selected_features: \n",
    "        phonation_features = DV_phonation(audio_file)\n",
    "        for feature in phonation_features.columns:\n",
    "            extracted_features[f'DV_PHO_{feature}'] = phonation_features[feature].values[0]\n",
    "    if 'DV_PRO' in selected_features:\n",
    "        prosody_features = DV_prosody(audio_file)\n",
    "        for feature in prosody_features.columns:\n",
    "            extracted_features[f'DV_PRO_{feature}'] = prosody_features[feature].values[0]\n",
    "    if 'DV_GLO' in selected_features:\n",
    "        glottal_features = DV_glottal(audio_file)\n",
    "        for feature in glottal_features.columns:\n",
    "            extracted_features[f'DV_GLO_{feature}'] = glottal_features[feature].values[0]     \n",
    "            \n",
    "    return extracted_features"
   ]
  },
  {
   "cell_type": "code",
   "execution_count": 30,
   "metadata": {},
   "outputs": [],
   "source": [
    "def extract_features_MPT(audio_file, selected_features, silence_threshold, min_silence_duration):\n",
    "    extracted_features = {}\n",
    "    \n",
    "    if 'PP_DUR_WP' in selected_features:\n",
    "        extracted_features['PP_DUR_WP'] = PP_duration_with_pauses(audio_file, silence_threshold)\n",
    "    if 'PP_DUR_WOP' in selected_features:\n",
    "        extracted_features['PP_DUR_WOP'] = PP_duration_without_pauses(audio_file, silence_threshold, min_silence_duration)\n",
    "            \n",
    "    return extracted_features"
   ]
  },
  {
   "cell_type": "code",
   "execution_count": 31,
   "metadata": {},
   "outputs": [],
   "source": [
    "def process_audio_files_VOW(paths, selected_features, segment_length, f0_min, f0_max, point_step, time_step, max_frequency, num_formants):\n",
    "    patient_dfs = {}\n",
    "\n",
    "    files = [file for file in paths if file.is_file() and file.suffix == '.wav']\n",
    "\n",
    "    for file in files:\n",
    "        filename = file.stem.replace(\"_pre\", \"\")\n",
    "        parts = filename.split(\"_\")\n",
    "        if len(parts) != 4:\n",
    "            print(f\"Unexpected named audio file: {file}\")\n",
    "            continue\n",
    "\n",
    "        patient_id, day, exercise, take_letter = parts\n",
    "        print(\"Now processing\", parts, \"for VOW\")\n",
    "\n",
    "        features = {}\n",
    "        file_path = str(file)\n",
    "\n",
    "        if exercise == 'VOW':\n",
    "            features = extract_features_VOW(\n",
    "                file_path, selected_features, \n",
    "                segment_length, \n",
    "                f0_min, f0_max,\n",
    "                point_step, time_step, max_frequency, num_formants)\n",
    "        \n",
    "        if features:    \n",
    "            df_entry = {'day': int(day), **features}       \n",
    "            df_key = (patient_id, take_letter, exercise)\n",
    "            if df_key not in patient_dfs:\n",
    "                patient_dfs[df_key] = pd.DataFrame(columns=['day'] + list(features.keys()))\n",
    "            patient_dfs[df_key] = pd.concat([patient_dfs[df_key], pd.DataFrame([df_entry])], ignore_index=True)\n",
    "        \n",
    "        for key, df in patient_dfs.items():\n",
    "            patient_dfs[key] = df.sort_values(by='day', ascending=True).reset_index(drop=True)\n",
    "\n",
    "        for (patient_id, take_letter, exercise), df in patient_dfs.items():\n",
    "            file_name = f\"{patient_id}_{exercise}_{take_letter}.csv\"\n",
    "            file_path = features_dir / exercise / patient_id / file_name\n",
    "\n",
    "            df.to_csv(file_path, index=False)\n",
    "\n",
    "\n",
    "def process_audio_files_SEN(paths, selected_features, f0_min, f0_max, silence_threshold, min_silence_duration, segment_length, num_coefficients, time_step, max_frequency, num_formants):\n",
    "    patient_dfs = {}\n",
    "\n",
    "    files = [file for file in paths if file.is_file() and file.suffix == '.wav']\n",
    "\n",
    "    for file in files:\n",
    "        filename = file.stem.replace(\"_pre\", \"\")\n",
    "        parts = filename.split(\"_\")\n",
    "        if len(parts) != 4:\n",
    "            print(f\"Unexpected named audio file: {file}\")\n",
    "            continue\n",
    "\n",
    "        patient_id, day, exercise, take_letter = parts\n",
    "        print(\"Now processing\", parts, \"for SEN\")\n",
    "        \n",
    "        features = {}\n",
    "        file_path = str(file)\n",
    "        \n",
    "        if exercise == 'SEN':\n",
    "            features = extract_features_SEN(\n",
    "                file_path, selected_features, \n",
    "                f0_min, f0_max, \n",
    "                silence_threshold, min_silence_duration, \n",
    "                segment_length,\n",
    "                num_coefficients,\n",
    "                time_step, max_frequency, num_formants)\n",
    "            \n",
    "        if features:\n",
    "            df_entry = {'day': int(day), **features}    \n",
    "            df_key = (patient_id, take_letter, exercise)\n",
    "            if df_key not in patient_dfs:\n",
    "                patient_dfs[df_key] = pd.DataFrame(columns=['day'] + list(features.keys()))\n",
    "            patient_dfs[df_key] = pd.concat([patient_dfs[df_key], pd.DataFrame([df_entry])], ignore_index=True)\n",
    "        \n",
    "        for key, df in patient_dfs.items():\n",
    "            patient_dfs[key] = df.sort_values(by='day', ascending=True).reset_index(drop=True)\n",
    "            \n",
    "        for (patient_id, take_letter, exercise), df in patient_dfs.items():\n",
    "            file_name = f\"{patient_id}_{exercise}_{take_letter}.csv\"\n",
    "            file_path = features_dir / exercise / patient_id / file_name\n",
    "\n",
    "            df.to_csv(file_path, index=False)\n",
    "  \n",
    "\n",
    "def process_audio_files_SPN(paths, selected_features, f0_min, f0_max, silence_threshold, min_silence_duration, segment_length, num_coefficients, time_step, max_frequency, num_formants):\n",
    "    patient_dfs = {}\n",
    "\n",
    "    files = [file for file in paths if file.is_file() and file.suffix == '.wav']\n",
    "\n",
    "    for file in files:\n",
    "        filename = file.stem.replace(\"_pre\", \"\")\n",
    "        parts = filename.split(\"_\")\n",
    "        if len(parts) != 4:\n",
    "            print(f\"Unexpected named audio file: {file}\")\n",
    "            continue\n",
    "\n",
    "        patient_id, day, exercise, take_letter = parts\n",
    "        print(\"Now processing\", parts, \"for SPN\")\n",
    "        \n",
    "        features = {}\n",
    "        file_path = str(file)\n",
    "        \n",
    "        if exercise == 'SPN':\n",
    "            features = extract_features_SPN(\n",
    "                file_path, selected_features, \n",
    "                f0_min, f0_max, \n",
    "                silence_threshold, min_silence_duration, \n",
    "                segment_length,\n",
    "                num_coefficients,\n",
    "                time_step, max_frequency, num_formants)\n",
    "            \n",
    "        if features:\n",
    "            df_entry = {'day': int(day), **features}    \n",
    "            df_key = (patient_id, take_letter, exercise)\n",
    "            if df_key not in patient_dfs:\n",
    "                patient_dfs[df_key] = pd.DataFrame(columns=['day'] + list(features.keys()))\n",
    "            patient_dfs[df_key] = pd.concat([patient_dfs[df_key], pd.DataFrame([df_entry])], ignore_index=True)\n",
    "        \n",
    "        for key, df in patient_dfs.items():\n",
    "            patient_dfs[key] = df.sort_values(by='day', ascending=True).reset_index(drop=True)\n",
    "            \n",
    "        for (patient_id, take_letter, exercise), df in patient_dfs.items():\n",
    "            file_name = f\"{patient_id}_{exercise}_{take_letter}.csv\"\n",
    "            file_path = features_dir / exercise / patient_id / file_name\n",
    "\n",
    "            df.to_csv(file_path, index=False)\n",
    "          \n",
    "\n",
    "def process_audio_files_MPT(paths, selected_features, silence_threshold, min_silence_duration):\n",
    "    patient_dfs = {}\n",
    "\n",
    "    files = [file for file in paths if file.is_file() and file.suffix == '.wav']\n",
    "    \n",
    "    for file in files:\n",
    "        filename = file.stem.replace(\"_pre\", \"\")\n",
    "        parts = filename.split(\"_\")\n",
    "        if len(parts) != 4:\n",
    "            print(f\"Unexpected named audio file: {file}\")\n",
    "            continue\n",
    "\n",
    "        patient_id, day, exercise, take_letter = parts\n",
    "        print(\"Now processing\", parts, \"for MPT\")\n",
    "\n",
    "        features = {}\n",
    "        file_path = str(file)\n",
    "        \n",
    "        if exercise == 'MPT':\n",
    "            features = extract_features_MPT(\n",
    "                file_path, selected_features, \n",
    "                silence_threshold, min_silence_duration)\n",
    "            \n",
    "        if features:            \n",
    "            df_entry = {'day': int(day), **features}    \n",
    "            df_key = (patient_id, take_letter, exercise)\n",
    "            if df_key not in patient_dfs:\n",
    "                patient_dfs[df_key] = pd.DataFrame(columns=['day'] + list(features.keys()))\n",
    "            patient_dfs[df_key] = pd.concat([patient_dfs[df_key], pd.DataFrame([df_entry])], ignore_index=True)\n",
    "            \n",
    "        for key, df in patient_dfs.items():\n",
    "            patient_dfs[key] = df.sort_values(by='day', ascending=True).reset_index(drop=True)\n",
    "\n",
    "        for (patient_id, take_letter, exercise), df in patient_dfs.items():\n",
    "            file_name = f\"{patient_id}_{exercise}_{take_letter}.csv\"\n",
    "            file_path = features_dir / exercise / patient_id / file_name\n",
    "\n",
    "            df.to_csv(file_path, index=False)"
   ]
  },
  {
   "cell_type": "code",
   "execution_count": 32,
   "metadata": {},
   "outputs": [
    {
     "name": "stdout",
     "output_type": "stream",
     "text": [
      "All files [PosixPath('audio_files_pre/SPN/1234572/1234572_0_SPN_2_pre.wav'), PosixPath('audio_files_pre/SPN/1234572/1234572_0_SPN_1_pre.wav'), PosixPath('audio_files_pre/SPN/1234572/1234572_2_SPN_1_pre.wav'), PosixPath('audio_files_pre/SPN/1234572/1234572_1_SPN_2_pre.wav'), PosixPath('audio_files_pre/SPN/1234572/1234572_1_SPN_1_pre.wav'), PosixPath('audio_files_pre/SPN/1234572/1234572_2_SPN_2_pre.wav'), PosixPath('audio_files_pre/SPN/1234571/1234571_3_SPN_1_pre.wav'), PosixPath('audio_files_pre/SPN/1234571/1234571_1_SPN_1_pre.wav'), PosixPath('audio_files_pre/SPN/1234571/1234571_2_SPN_2_pre.wav'), PosixPath('audio_files_pre/SPN/1234571/1234571_3_SPN_2_pre.wav'), PosixPath('audio_files_pre/SPN/1234571/1234571_1_SPN_2_pre.wav'), PosixPath('audio_files_pre/SPN/1234571/1234571_0_SPN_2_pre.wav'), PosixPath('audio_files_pre/SPN/1234571/1234571_0_SPN_1_pre.wav'), PosixPath('audio_files_pre/SPN/1234571/1234571_2_SPN_1_pre.wav'), PosixPath('audio_files_pre/SPN/1234573/1234573_0_SPN_1_pre.wav'), PosixPath('audio_files_pre/SPN/1234573/1234573_1_SPN_1_pre.wav'), PosixPath('audio_files_pre/SPN/1234573/1234573_2_SPN_1_pre.wav'), PosixPath('audio_files_pre/SPN/1234573/1234573_0_SPN_2_pre.wav'), PosixPath('audio_files_pre/SPN/1234573/1234573_2_SPN_2_pre.wav'), PosixPath('audio_files_pre/SPN/1234573/1234573_1_SPN_2_pre.wav'), PosixPath('audio_files_pre/SPN/1234570/1234570_2_SPN_1_pre.wav'), PosixPath('audio_files_pre/SPN/1234570/1234570_0_SPN_2_pre.wav'), PosixPath('audio_files_pre/SPN/1234570/1234570_0_SPN_1_pre.wav'), PosixPath('audio_files_pre/SPN/1234570/1234570_2_SPN_2_pre.wav'), PosixPath('audio_files_pre/SPN/1234570/1234570_1_SPN_1_pre.wav'), PosixPath('audio_files_pre/SPN/1234570/1234570_1_SPN_2_pre.wav'), PosixPath('audio_files_pre/SPN/1234567/1234567_2_SPN_2_pre.wav'), PosixPath('audio_files_pre/SPN/1234567/1234567_0_SPN_1_pre.wav'), PosixPath('audio_files_pre/SPN/1234567/1234567_3_SPN_2_pre.wav'), PosixPath('audio_files_pre/SPN/1234567/1234567_2_SPN_1_pre.wav'), PosixPath('audio_files_pre/SPN/1234567/1234567_4_SPN_1_pre.wav'), PosixPath('audio_files_pre/SPN/1234567/1234567_3_SPN_1_pre.wav'), PosixPath('audio_files_pre/SPN/1234567/1234567_1_SPN_1_pre.wav'), PosixPath('audio_files_pre/SPN/1234567/1234567_0_SPN_2_pre.wav'), PosixPath('audio_files_pre/SPN/1234567/1234567_1_SPN_2_pre.wav'), PosixPath('audio_files_pre/SPN/1234568/1234568_2_SPN_1_pre.wav'), PosixPath('audio_files_pre/SPN/1234568/1234568_0_SPN_1_pre.wav'), PosixPath('audio_files_pre/SPN/1234568/1234568_1_SPN_1_pre.wav'), PosixPath('audio_files_pre/SPN/1234568/1234568_4_SPN_1_pre.wav'), PosixPath('audio_files_pre/SPN/1234568/1234568_3_SPN_1_pre.wav'), PosixPath('audio_files_pre/SPN/1234569/1234569_2_SPN_2_pre.wav'), PosixPath('audio_files_pre/SPN/1234569/1234569_0_SPN_1_pre.wav'), PosixPath('audio_files_pre/SPN/1234569/1234569_1_SPN_2_pre.wav'), PosixPath('audio_files_pre/SPN/1234569/1234569_0_SPN_2_pre.wav'), PosixPath('audio_files_pre/SPN/1234569/1234569_1_SPN_1_pre.wav'), PosixPath('audio_files_pre/SPN/1234569/1234569_2_SPN_1_pre.wav'), PosixPath('audio_files_pre/SEN/1234572/1234572_1_SEN_1_pre.wav'), PosixPath('audio_files_pre/SEN/1234572/1234572_2_SEN_2_pre.wav'), PosixPath('audio_files_pre/SEN/1234572/1234572_1_SEN_2_pre.wav'), PosixPath('audio_files_pre/SEN/1234572/1234572_0_SEN_2_pre.wav'), PosixPath('audio_files_pre/SEN/1234572/1234572_0_SEN_1_pre.wav'), PosixPath('audio_files_pre/SEN/1234572/1234572_2_SEN_1_pre.wav'), PosixPath('audio_files_pre/SEN/1234571/1234571_0_SEN_1_pre.wav'), PosixPath('audio_files_pre/SEN/1234571/1234571_3_SEN_1_pre.wav'), PosixPath('audio_files_pre/SEN/1234571/1234571_2_SEN_2_pre.wav'), PosixPath('audio_files_pre/SEN/1234571/1234571_3_SEN_2_pre.wav'), PosixPath('audio_files_pre/SEN/1234571/1234571_1_SEN_2_pre.wav'), PosixPath('audio_files_pre/SEN/1234571/1234571_2_SEN_1_pre.wav'), PosixPath('audio_files_pre/SEN/1234571/1234571_1_SEN_1_pre.wav'), PosixPath('audio_files_pre/SEN/1234571/1234571_0_SEN_2_pre.wav'), PosixPath('audio_files_pre/SEN/1234573/1234573_0_SEN_1_pre.wav'), PosixPath('audio_files_pre/SEN/1234573/1234573_2_SEN_2_pre.wav'), PosixPath('audio_files_pre/SEN/1234573/1234573_1_SEN_1_pre.wav'), PosixPath('audio_files_pre/SEN/1234573/1234573_2_SEN_1_pre.wav'), PosixPath('audio_files_pre/SEN/1234573/1234573_1_SEN_2_pre.wav'), PosixPath('audio_files_pre/SEN/1234573/1234573_0_SEN_2_pre.wav'), PosixPath('audio_files_pre/SEN/1234570/1234570_2_SEN_1_pre.wav'), PosixPath('audio_files_pre/SEN/1234570/1234570_1_SEN_2_pre.wav'), PosixPath('audio_files_pre/SEN/1234570/1234570_0_SEN_2_pre.wav'), PosixPath('audio_files_pre/SEN/1234570/1234570_1_SEN_1_pre.wav'), PosixPath('audio_files_pre/SEN/1234570/1234570_2_SEN_2_pre.wav'), PosixPath('audio_files_pre/SEN/1234570/1234570_0_SEN_1_pre.wav'), PosixPath('audio_files_pre/SEN/1234567/1234567_3_SEN_1_pre.wav'), PosixPath('audio_files_pre/SEN/1234567/1234567_3_SEN_2_pre.wav'), PosixPath('audio_files_pre/SEN/1234567/1234567_1_SEN_1_pre.wav'), PosixPath('audio_files_pre/SEN/1234567/1234567_4_SEN_2_pre.wav'), PosixPath('audio_files_pre/SEN/1234567/1234567_2_SEN_1_pre.wav'), PosixPath('audio_files_pre/SEN/1234567/1234567_4_SEN_1_pre.wav'), PosixPath('audio_files_pre/SEN/1234567/1234567_2_SEN_2_pre.wav'), PosixPath('audio_files_pre/SEN/1234567/1234567_0_SEN_2_pre.wav'), PosixPath('audio_files_pre/SEN/1234567/1234567_0_SEN_1_pre.wav'), PosixPath('audio_files_pre/SEN/1234567/1234567_1_SEN_2_pre.wav'), PosixPath('audio_files_pre/SEN/1234568/1234568_3_SEN_2_pre.wav'), PosixPath('audio_files_pre/SEN/1234568/1234568_0_SEN_2_pre.wav'), PosixPath('audio_files_pre/SEN/1234568/1234568_1_SEN_1_pre.wav'), PosixPath('audio_files_pre/SEN/1234568/1234568_4_SEN_2_pre.wav'), PosixPath('audio_files_pre/SEN/1234568/1234568_2_SEN_2_pre.wav'), PosixPath('audio_files_pre/SEN/1234568/1234568_1_SEN_2_pre.wav'), PosixPath('audio_files_pre/SEN/1234568/1234568_2_SEN_1_pre.wav'), PosixPath('audio_files_pre/SEN/1234568/1234568_3_SEN_1_pre.wav'), PosixPath('audio_files_pre/SEN/1234568/1234568_4_SEN_1_pre.wav'), PosixPath('audio_files_pre/SEN/1234568/1234568_0_SEN_1_pre.wav'), PosixPath('audio_files_pre/SEN/1234569/1234569_1_SEN_1_pre.wav'), PosixPath('audio_files_pre/SEN/1234569/1234569_2_SEN_1_pre.wav'), PosixPath('audio_files_pre/SEN/1234569/1234569_0_SEN_2_pre.wav'), PosixPath('audio_files_pre/SEN/1234569/1234569_1_SEN_2_pre.wav'), PosixPath('audio_files_pre/SEN/1234569/1234569_2_SEN_2_pre.wav'), PosixPath('audio_files_pre/SEN/1234569/1234569_0_SEN_1_pre.wav'), PosixPath('audio_files_pre/MPT/1234572/1234572_0_MPT_1_pre.wav'), PosixPath('audio_files_pre/MPT/1234572/1234572_2_MPT_1_pre.wav'), PosixPath('audio_files_pre/MPT/1234572/1234572_0_MPT_2_pre.wav'), PosixPath('audio_files_pre/MPT/1234572/1234572_1_MPT_1_pre.wav'), PosixPath('audio_files_pre/MPT/1234572/1234572_2_MPT_2_pre.wav'), PosixPath('audio_files_pre/MPT/1234572/1234572_1_MPT_2_pre.wav'), PosixPath('audio_files_pre/MPT/1234571/1234571_0_MPT_1_pre.wav'), PosixPath('audio_files_pre/MPT/1234571/1234571_0_MPT_2_pre.wav'), PosixPath('audio_files_pre/MPT/1234571/1234571_1_MPT_2_pre.wav'), PosixPath('audio_files_pre/MPT/1234571/1234571_1_MPT_1_pre.wav'), PosixPath('audio_files_pre/MPT/1234571/1234571_3_MPT_1_pre.wav'), PosixPath('audio_files_pre/MPT/1234571/1234571_2_MPT_2_pre.wav'), PosixPath('audio_files_pre/MPT/1234571/1234571_2_MPT_1_pre.wav'), PosixPath('audio_files_pre/MPT/1234571/1234571_3_MPT_2_pre.wav'), PosixPath('audio_files_pre/MPT/1234573/1234573_1_MPT_1_pre.wav'), PosixPath('audio_files_pre/MPT/1234573/1234573_0_MPT_1_pre.wav'), PosixPath('audio_files_pre/MPT/1234573/1234573_2_MPT_2_pre.wav'), PosixPath('audio_files_pre/MPT/1234573/1234573_1_MPT_2_pre.wav'), PosixPath('audio_files_pre/MPT/1234573/1234573_0_MPT_2_pre.wav'), PosixPath('audio_files_pre/MPT/1234573/1234573_2_MPT_1_pre.wav'), PosixPath('audio_files_pre/MPT/1234570/1234570_2_MPT_2_pre.wav'), PosixPath('audio_files_pre/MPT/1234570/1234570_1_MPT_1_pre.wav'), PosixPath('audio_files_pre/MPT/1234570/1234570_1_MPT_2_pre.wav'), PosixPath('audio_files_pre/MPT/1234570/1234570_0_MPT_1_pre.wav'), PosixPath('audio_files_pre/MPT/1234570/1234570_0_MPT_2_pre.wav'), PosixPath('audio_files_pre/MPT/1234570/1234570_2_MPT_1_pre.wav'), PosixPath('audio_files_pre/MPT/1234567/1234567_1_MPT_1_pre.wav'), PosixPath('audio_files_pre/MPT/1234567/1234567_2_MPT_1_pre.wav'), PosixPath('audio_files_pre/MPT/1234567/1234567_4_MPT_1_pre.wav'), PosixPath('audio_files_pre/MPT/1234567/1234567_0_MPT_2_pre.wav'), PosixPath('audio_files_pre/MPT/1234567/1234567_3_MPT_2_pre.wav'), PosixPath('audio_files_pre/MPT/1234567/1234567_1_MPT_2_pre.wav'), PosixPath('audio_files_pre/MPT/1234567/1234567_0_MPT_1_pre.wav'), PosixPath('audio_files_pre/MPT/1234567/1234567_2_MPT_2_pre.wav'), PosixPath('audio_files_pre/MPT/1234567/1234567_4_MPT_2_pre.wav'), PosixPath('audio_files_pre/MPT/1234567/1234567_3_MPT_1_pre.wav'), PosixPath('audio_files_pre/MPT/1234568/1234568_2_MPT_2_pre.wav'), PosixPath('audio_files_pre/MPT/1234568/1234568_0_MPT_1_pre.wav'), PosixPath('audio_files_pre/MPT/1234568/1234568_4_MPT_1_pre.wav'), PosixPath('audio_files_pre/MPT/1234568/1234568_3_MPT_1_pre.wav'), PosixPath('audio_files_pre/MPT/1234568/1234568_2_MPT_1_pre.wav'), PosixPath('audio_files_pre/MPT/1234568/1234568_4_MPT_2_pre.wav'), PosixPath('audio_files_pre/MPT/1234568/1234568_3_MPT_2_pre.wav'), PosixPath('audio_files_pre/MPT/1234568/1234568_1_MPT_2_pre.wav'), PosixPath('audio_files_pre/MPT/1234568/1234568_0_MPT_2_pre.wav'), PosixPath('audio_files_pre/MPT/1234568/1234568_1_MPT_1_pre.wav'), PosixPath('audio_files_pre/MPT/1234569/1234569_1_MPT_2_pre.wav'), PosixPath('audio_files_pre/MPT/1234569/1234569_0_MPT_1_pre.wav'), PosixPath('audio_files_pre/MPT/1234569/1234569_0_MPT_2_pre.wav'), PosixPath('audio_files_pre/MPT/1234569/1234569_1_MPT_1_pre.wav'), PosixPath('audio_files_pre/MPT/1234569/1234569_2_MPT_2_pre.wav'), PosixPath('audio_files_pre/MPT/1234569/1234569_2_MPT_1_pre.wav')]\n",
      "Processed files []\n",
      "Processed keys set()\n",
      "Unprocessed files [PosixPath('audio_files_pre/SPN/1234572/1234572_0_SPN_2_pre.wav'), PosixPath('audio_files_pre/SPN/1234572/1234572_0_SPN_1_pre.wav'), PosixPath('audio_files_pre/SPN/1234572/1234572_2_SPN_1_pre.wav'), PosixPath('audio_files_pre/SPN/1234572/1234572_1_SPN_2_pre.wav'), PosixPath('audio_files_pre/SPN/1234572/1234572_1_SPN_1_pre.wav'), PosixPath('audio_files_pre/SPN/1234572/1234572_2_SPN_2_pre.wav'), PosixPath('audio_files_pre/SPN/1234571/1234571_3_SPN_1_pre.wav'), PosixPath('audio_files_pre/SPN/1234571/1234571_1_SPN_1_pre.wav'), PosixPath('audio_files_pre/SPN/1234571/1234571_2_SPN_2_pre.wav'), PosixPath('audio_files_pre/SPN/1234571/1234571_3_SPN_2_pre.wav'), PosixPath('audio_files_pre/SPN/1234571/1234571_1_SPN_2_pre.wav'), PosixPath('audio_files_pre/SPN/1234571/1234571_0_SPN_2_pre.wav'), PosixPath('audio_files_pre/SPN/1234571/1234571_0_SPN_1_pre.wav'), PosixPath('audio_files_pre/SPN/1234571/1234571_2_SPN_1_pre.wav'), PosixPath('audio_files_pre/SPN/1234573/1234573_0_SPN_1_pre.wav'), PosixPath('audio_files_pre/SPN/1234573/1234573_1_SPN_1_pre.wav'), PosixPath('audio_files_pre/SPN/1234573/1234573_2_SPN_1_pre.wav'), PosixPath('audio_files_pre/SPN/1234573/1234573_0_SPN_2_pre.wav'), PosixPath('audio_files_pre/SPN/1234573/1234573_2_SPN_2_pre.wav'), PosixPath('audio_files_pre/SPN/1234573/1234573_1_SPN_2_pre.wav'), PosixPath('audio_files_pre/SPN/1234570/1234570_2_SPN_1_pre.wav'), PosixPath('audio_files_pre/SPN/1234570/1234570_0_SPN_2_pre.wav'), PosixPath('audio_files_pre/SPN/1234570/1234570_0_SPN_1_pre.wav'), PosixPath('audio_files_pre/SPN/1234570/1234570_2_SPN_2_pre.wav'), PosixPath('audio_files_pre/SPN/1234570/1234570_1_SPN_1_pre.wav'), PosixPath('audio_files_pre/SPN/1234570/1234570_1_SPN_2_pre.wav'), PosixPath('audio_files_pre/SPN/1234567/1234567_2_SPN_2_pre.wav'), PosixPath('audio_files_pre/SPN/1234567/1234567_0_SPN_1_pre.wav'), PosixPath('audio_files_pre/SPN/1234567/1234567_3_SPN_2_pre.wav'), PosixPath('audio_files_pre/SPN/1234567/1234567_2_SPN_1_pre.wav'), PosixPath('audio_files_pre/SPN/1234567/1234567_4_SPN_1_pre.wav'), PosixPath('audio_files_pre/SPN/1234567/1234567_3_SPN_1_pre.wav'), PosixPath('audio_files_pre/SPN/1234567/1234567_1_SPN_1_pre.wav'), PosixPath('audio_files_pre/SPN/1234567/1234567_0_SPN_2_pre.wav'), PosixPath('audio_files_pre/SPN/1234567/1234567_1_SPN_2_pre.wav'), PosixPath('audio_files_pre/SPN/1234568/1234568_2_SPN_1_pre.wav'), PosixPath('audio_files_pre/SPN/1234568/1234568_0_SPN_1_pre.wav'), PosixPath('audio_files_pre/SPN/1234568/1234568_1_SPN_1_pre.wav'), PosixPath('audio_files_pre/SPN/1234568/1234568_4_SPN_1_pre.wav'), PosixPath('audio_files_pre/SPN/1234568/1234568_3_SPN_1_pre.wav'), PosixPath('audio_files_pre/SPN/1234569/1234569_2_SPN_2_pre.wav'), PosixPath('audio_files_pre/SPN/1234569/1234569_0_SPN_1_pre.wav'), PosixPath('audio_files_pre/SPN/1234569/1234569_1_SPN_2_pre.wav'), PosixPath('audio_files_pre/SPN/1234569/1234569_0_SPN_2_pre.wav'), PosixPath('audio_files_pre/SPN/1234569/1234569_1_SPN_1_pre.wav'), PosixPath('audio_files_pre/SPN/1234569/1234569_2_SPN_1_pre.wav'), PosixPath('audio_files_pre/SEN/1234572/1234572_1_SEN_1_pre.wav'), PosixPath('audio_files_pre/SEN/1234572/1234572_2_SEN_2_pre.wav'), PosixPath('audio_files_pre/SEN/1234572/1234572_1_SEN_2_pre.wav'), PosixPath('audio_files_pre/SEN/1234572/1234572_0_SEN_2_pre.wav'), PosixPath('audio_files_pre/SEN/1234572/1234572_0_SEN_1_pre.wav'), PosixPath('audio_files_pre/SEN/1234572/1234572_2_SEN_1_pre.wav'), PosixPath('audio_files_pre/SEN/1234571/1234571_0_SEN_1_pre.wav'), PosixPath('audio_files_pre/SEN/1234571/1234571_3_SEN_1_pre.wav'), PosixPath('audio_files_pre/SEN/1234571/1234571_2_SEN_2_pre.wav'), PosixPath('audio_files_pre/SEN/1234571/1234571_3_SEN_2_pre.wav'), PosixPath('audio_files_pre/SEN/1234571/1234571_1_SEN_2_pre.wav'), PosixPath('audio_files_pre/SEN/1234571/1234571_2_SEN_1_pre.wav'), PosixPath('audio_files_pre/SEN/1234571/1234571_1_SEN_1_pre.wav'), PosixPath('audio_files_pre/SEN/1234571/1234571_0_SEN_2_pre.wav'), PosixPath('audio_files_pre/SEN/1234573/1234573_0_SEN_1_pre.wav'), PosixPath('audio_files_pre/SEN/1234573/1234573_2_SEN_2_pre.wav'), PosixPath('audio_files_pre/SEN/1234573/1234573_1_SEN_1_pre.wav'), PosixPath('audio_files_pre/SEN/1234573/1234573_2_SEN_1_pre.wav'), PosixPath('audio_files_pre/SEN/1234573/1234573_1_SEN_2_pre.wav'), PosixPath('audio_files_pre/SEN/1234573/1234573_0_SEN_2_pre.wav'), PosixPath('audio_files_pre/SEN/1234570/1234570_2_SEN_1_pre.wav'), PosixPath('audio_files_pre/SEN/1234570/1234570_1_SEN_2_pre.wav'), PosixPath('audio_files_pre/SEN/1234570/1234570_0_SEN_2_pre.wav'), PosixPath('audio_files_pre/SEN/1234570/1234570_1_SEN_1_pre.wav'), PosixPath('audio_files_pre/SEN/1234570/1234570_2_SEN_2_pre.wav'), PosixPath('audio_files_pre/SEN/1234570/1234570_0_SEN_1_pre.wav'), PosixPath('audio_files_pre/SEN/1234567/1234567_3_SEN_1_pre.wav'), PosixPath('audio_files_pre/SEN/1234567/1234567_3_SEN_2_pre.wav'), PosixPath('audio_files_pre/SEN/1234567/1234567_1_SEN_1_pre.wav'), PosixPath('audio_files_pre/SEN/1234567/1234567_4_SEN_2_pre.wav'), PosixPath('audio_files_pre/SEN/1234567/1234567_2_SEN_1_pre.wav'), PosixPath('audio_files_pre/SEN/1234567/1234567_4_SEN_1_pre.wav'), PosixPath('audio_files_pre/SEN/1234567/1234567_2_SEN_2_pre.wav'), PosixPath('audio_files_pre/SEN/1234567/1234567_0_SEN_2_pre.wav'), PosixPath('audio_files_pre/SEN/1234567/1234567_0_SEN_1_pre.wav'), PosixPath('audio_files_pre/SEN/1234567/1234567_1_SEN_2_pre.wav'), PosixPath('audio_files_pre/SEN/1234568/1234568_3_SEN_2_pre.wav'), PosixPath('audio_files_pre/SEN/1234568/1234568_0_SEN_2_pre.wav'), PosixPath('audio_files_pre/SEN/1234568/1234568_1_SEN_1_pre.wav'), PosixPath('audio_files_pre/SEN/1234568/1234568_4_SEN_2_pre.wav'), PosixPath('audio_files_pre/SEN/1234568/1234568_2_SEN_2_pre.wav'), PosixPath('audio_files_pre/SEN/1234568/1234568_1_SEN_2_pre.wav'), PosixPath('audio_files_pre/SEN/1234568/1234568_2_SEN_1_pre.wav'), PosixPath('audio_files_pre/SEN/1234568/1234568_3_SEN_1_pre.wav'), PosixPath('audio_files_pre/SEN/1234568/1234568_4_SEN_1_pre.wav'), PosixPath('audio_files_pre/SEN/1234568/1234568_0_SEN_1_pre.wav'), PosixPath('audio_files_pre/SEN/1234569/1234569_1_SEN_1_pre.wav'), PosixPath('audio_files_pre/SEN/1234569/1234569_2_SEN_1_pre.wav'), PosixPath('audio_files_pre/SEN/1234569/1234569_0_SEN_2_pre.wav'), PosixPath('audio_files_pre/SEN/1234569/1234569_1_SEN_2_pre.wav'), PosixPath('audio_files_pre/SEN/1234569/1234569_2_SEN_2_pre.wav'), PosixPath('audio_files_pre/SEN/1234569/1234569_0_SEN_1_pre.wav'), PosixPath('audio_files_pre/MPT/1234572/1234572_0_MPT_1_pre.wav'), PosixPath('audio_files_pre/MPT/1234572/1234572_2_MPT_1_pre.wav'), PosixPath('audio_files_pre/MPT/1234572/1234572_0_MPT_2_pre.wav'), PosixPath('audio_files_pre/MPT/1234572/1234572_1_MPT_1_pre.wav'), PosixPath('audio_files_pre/MPT/1234572/1234572_2_MPT_2_pre.wav'), PosixPath('audio_files_pre/MPT/1234572/1234572_1_MPT_2_pre.wav'), PosixPath('audio_files_pre/MPT/1234571/1234571_0_MPT_1_pre.wav'), PosixPath('audio_files_pre/MPT/1234571/1234571_0_MPT_2_pre.wav'), PosixPath('audio_files_pre/MPT/1234571/1234571_1_MPT_2_pre.wav'), PosixPath('audio_files_pre/MPT/1234571/1234571_1_MPT_1_pre.wav'), PosixPath('audio_files_pre/MPT/1234571/1234571_3_MPT_1_pre.wav'), PosixPath('audio_files_pre/MPT/1234571/1234571_2_MPT_2_pre.wav'), PosixPath('audio_files_pre/MPT/1234571/1234571_2_MPT_1_pre.wav'), PosixPath('audio_files_pre/MPT/1234571/1234571_3_MPT_2_pre.wav'), PosixPath('audio_files_pre/MPT/1234573/1234573_1_MPT_1_pre.wav'), PosixPath('audio_files_pre/MPT/1234573/1234573_0_MPT_1_pre.wav'), PosixPath('audio_files_pre/MPT/1234573/1234573_2_MPT_2_pre.wav'), PosixPath('audio_files_pre/MPT/1234573/1234573_1_MPT_2_pre.wav'), PosixPath('audio_files_pre/MPT/1234573/1234573_0_MPT_2_pre.wav'), PosixPath('audio_files_pre/MPT/1234573/1234573_2_MPT_1_pre.wav'), PosixPath('audio_files_pre/MPT/1234570/1234570_2_MPT_2_pre.wav'), PosixPath('audio_files_pre/MPT/1234570/1234570_1_MPT_1_pre.wav'), PosixPath('audio_files_pre/MPT/1234570/1234570_1_MPT_2_pre.wav'), PosixPath('audio_files_pre/MPT/1234570/1234570_0_MPT_1_pre.wav'), PosixPath('audio_files_pre/MPT/1234570/1234570_0_MPT_2_pre.wav'), PosixPath('audio_files_pre/MPT/1234570/1234570_2_MPT_1_pre.wav'), PosixPath('audio_files_pre/MPT/1234567/1234567_1_MPT_1_pre.wav'), PosixPath('audio_files_pre/MPT/1234567/1234567_2_MPT_1_pre.wav'), PosixPath('audio_files_pre/MPT/1234567/1234567_4_MPT_1_pre.wav'), PosixPath('audio_files_pre/MPT/1234567/1234567_0_MPT_2_pre.wav'), PosixPath('audio_files_pre/MPT/1234567/1234567_3_MPT_2_pre.wav'), PosixPath('audio_files_pre/MPT/1234567/1234567_1_MPT_2_pre.wav'), PosixPath('audio_files_pre/MPT/1234567/1234567_0_MPT_1_pre.wav'), PosixPath('audio_files_pre/MPT/1234567/1234567_2_MPT_2_pre.wav'), PosixPath('audio_files_pre/MPT/1234567/1234567_4_MPT_2_pre.wav'), PosixPath('audio_files_pre/MPT/1234567/1234567_3_MPT_1_pre.wav'), PosixPath('audio_files_pre/MPT/1234568/1234568_2_MPT_2_pre.wav'), PosixPath('audio_files_pre/MPT/1234568/1234568_0_MPT_1_pre.wav'), PosixPath('audio_files_pre/MPT/1234568/1234568_4_MPT_1_pre.wav'), PosixPath('audio_files_pre/MPT/1234568/1234568_3_MPT_1_pre.wav'), PosixPath('audio_files_pre/MPT/1234568/1234568_2_MPT_1_pre.wav'), PosixPath('audio_files_pre/MPT/1234568/1234568_4_MPT_2_pre.wav'), PosixPath('audio_files_pre/MPT/1234568/1234568_3_MPT_2_pre.wav'), PosixPath('audio_files_pre/MPT/1234568/1234568_1_MPT_2_pre.wav'), PosixPath('audio_files_pre/MPT/1234568/1234568_0_MPT_2_pre.wav'), PosixPath('audio_files_pre/MPT/1234568/1234568_1_MPT_1_pre.wav'), PosixPath('audio_files_pre/MPT/1234569/1234569_1_MPT_2_pre.wav'), PosixPath('audio_files_pre/MPT/1234569/1234569_0_MPT_1_pre.wav'), PosixPath('audio_files_pre/MPT/1234569/1234569_0_MPT_2_pre.wav'), PosixPath('audio_files_pre/MPT/1234569/1234569_1_MPT_1_pre.wav'), PosixPath('audio_files_pre/MPT/1234569/1234569_2_MPT_2_pre.wav'), PosixPath('audio_files_pre/MPT/1234569/1234569_2_MPT_1_pre.wav')]\n",
      "Now processing ['1234572', '0', 'SPN', '2'] for SEN\n",
      "Now processing ['1234572', '0', 'SPN', '1'] for SEN\n",
      "Now processing ['1234572', '2', 'SPN', '1'] for SEN\n",
      "Now processing ['1234572', '1', 'SPN', '2'] for SEN\n",
      "Now processing ['1234572', '1', 'SPN', '1'] for SEN\n",
      "Now processing ['1234572', '2', 'SPN', '2'] for SEN\n",
      "Now processing ['1234571', '3', 'SPN', '1'] for SEN\n",
      "Now processing ['1234571', '1', 'SPN', '1'] for SEN\n",
      "Now processing ['1234571', '2', 'SPN', '2'] for SEN\n",
      "Now processing ['1234571', '3', 'SPN', '2'] for SEN\n",
      "Now processing ['1234571', '1', 'SPN', '2'] for SEN\n",
      "Now processing ['1234571', '0', 'SPN', '2'] for SEN\n",
      "Now processing ['1234571', '0', 'SPN', '1'] for SEN\n",
      "Now processing ['1234571', '2', 'SPN', '1'] for SEN\n",
      "Now processing ['1234573', '0', 'SPN', '1'] for SEN\n",
      "Now processing ['1234573', '1', 'SPN', '1'] for SEN\n",
      "Now processing ['1234573', '2', 'SPN', '1'] for SEN\n",
      "Now processing ['1234573', '0', 'SPN', '2'] for SEN\n",
      "Now processing ['1234573', '2', 'SPN', '2'] for SEN\n",
      "Now processing ['1234573', '1', 'SPN', '2'] for SEN\n",
      "Now processing ['1234570', '2', 'SPN', '1'] for SEN\n",
      "Now processing ['1234570', '0', 'SPN', '2'] for SEN\n",
      "Now processing ['1234570', '0', 'SPN', '1'] for SEN\n",
      "Now processing ['1234570', '2', 'SPN', '2'] for SEN\n",
      "Now processing ['1234570', '1', 'SPN', '1'] for SEN\n",
      "Now processing ['1234570', '1', 'SPN', '2'] for SEN\n",
      "Now processing ['1234567', '2', 'SPN', '2'] for SEN\n",
      "Now processing ['1234567', '0', 'SPN', '1'] for SEN\n",
      "Now processing ['1234567', '3', 'SPN', '2'] for SEN\n",
      "Now processing ['1234567', '2', 'SPN', '1'] for SEN\n",
      "Now processing ['1234567', '4', 'SPN', '1'] for SEN\n",
      "Now processing ['1234567', '3', 'SPN', '1'] for SEN\n",
      "Now processing ['1234567', '1', 'SPN', '1'] for SEN\n",
      "Now processing ['1234567', '0', 'SPN', '2'] for SEN\n",
      "Now processing ['1234567', '1', 'SPN', '2'] for SEN\n",
      "Now processing ['1234568', '2', 'SPN', '1'] for SEN\n",
      "Now processing ['1234568', '0', 'SPN', '1'] for SEN\n",
      "Now processing ['1234568', '1', 'SPN', '1'] for SEN\n",
      "Now processing ['1234568', '4', 'SPN', '1'] for SEN\n",
      "Now processing ['1234568', '3', 'SPN', '1'] for SEN\n",
      "Now processing ['1234569', '2', 'SPN', '2'] for SEN\n",
      "Now processing ['1234569', '0', 'SPN', '1'] for SEN\n",
      "Now processing ['1234569', '1', 'SPN', '2'] for SEN\n",
      "Now processing ['1234569', '0', 'SPN', '2'] for SEN\n",
      "Now processing ['1234569', '1', 'SPN', '1'] for SEN\n",
      "Now processing ['1234569', '2', 'SPN', '1'] for SEN\n",
      "Now processing ['1234572', '1', 'SEN', '1'] for SEN\n"
     ]
    },
    {
     "name": "stderr",
     "output_type": "stream",
     "text": [
      "/tmp/ipykernel_50428/1098954265.py:75: FutureWarning: The behavior of DataFrame concatenation with empty or all-NA entries is deprecated. In a future version, this will no longer exclude empty or all-NA columns when determining the result dtypes. To retain the old behavior, exclude the relevant entries before the concat operation.\n",
      "  patient_dfs[df_key] = pd.concat([patient_dfs[df_key], pd.DataFrame([df_entry])], ignore_index=True)\n"
     ]
    },
    {
     "name": "stdout",
     "output_type": "stream",
     "text": [
      "Now processing ['1234572', '2', 'SEN', '2'] for SEN\n"
     ]
    },
    {
     "name": "stderr",
     "output_type": "stream",
     "text": [
      "/tmp/ipykernel_50428/1098954265.py:75: FutureWarning: The behavior of DataFrame concatenation with empty or all-NA entries is deprecated. In a future version, this will no longer exclude empty or all-NA columns when determining the result dtypes. To retain the old behavior, exclude the relevant entries before the concat operation.\n",
      "  patient_dfs[df_key] = pd.concat([patient_dfs[df_key], pd.DataFrame([df_entry])], ignore_index=True)\n"
     ]
    },
    {
     "name": "stdout",
     "output_type": "stream",
     "text": [
      "Now processing ['1234572', '1', 'SEN', '2'] for SEN\n",
      "Now processing ['1234572', '0', 'SEN', '2'] for SEN\n",
      "Now processing ['1234572', '0', 'SEN', '1'] for SEN\n",
      "Now processing ['1234572', '2', 'SEN', '1'] for SEN\n",
      "Now processing ['1234571', '0', 'SEN', '1'] for SEN\n"
     ]
    },
    {
     "name": "stderr",
     "output_type": "stream",
     "text": [
      "/tmp/ipykernel_50428/1098954265.py:75: FutureWarning: The behavior of DataFrame concatenation with empty or all-NA entries is deprecated. In a future version, this will no longer exclude empty or all-NA columns when determining the result dtypes. To retain the old behavior, exclude the relevant entries before the concat operation.\n",
      "  patient_dfs[df_key] = pd.concat([patient_dfs[df_key], pd.DataFrame([df_entry])], ignore_index=True)\n"
     ]
    },
    {
     "name": "stdout",
     "output_type": "stream",
     "text": [
      "Now processing ['1234571', '3', 'SEN', '1'] for SEN\n",
      "Now processing ['1234571', '2', 'SEN', '2'] for SEN\n"
     ]
    },
    {
     "name": "stderr",
     "output_type": "stream",
     "text": [
      "/tmp/ipykernel_50428/1098954265.py:75: FutureWarning: The behavior of DataFrame concatenation with empty or all-NA entries is deprecated. In a future version, this will no longer exclude empty or all-NA columns when determining the result dtypes. To retain the old behavior, exclude the relevant entries before the concat operation.\n",
      "  patient_dfs[df_key] = pd.concat([patient_dfs[df_key], pd.DataFrame([df_entry])], ignore_index=True)\n"
     ]
    },
    {
     "name": "stdout",
     "output_type": "stream",
     "text": [
      "Now processing ['1234571', '3', 'SEN', '2'] for SEN\n",
      "Now processing ['1234571', '1', 'SEN', '2'] for SEN\n",
      "Now processing ['1234571', '2', 'SEN', '1'] for SEN\n",
      "Now processing ['1234571', '1', 'SEN', '1'] for SEN\n",
      "Now processing ['1234571', '0', 'SEN', '2'] for SEN\n",
      "Now processing ['1234573', '0', 'SEN', '1'] for SEN\n"
     ]
    },
    {
     "name": "stderr",
     "output_type": "stream",
     "text": [
      "/tmp/ipykernel_50428/1098954265.py:75: FutureWarning: The behavior of DataFrame concatenation with empty or all-NA entries is deprecated. In a future version, this will no longer exclude empty or all-NA columns when determining the result dtypes. To retain the old behavior, exclude the relevant entries before the concat operation.\n",
      "  patient_dfs[df_key] = pd.concat([patient_dfs[df_key], pd.DataFrame([df_entry])], ignore_index=True)\n"
     ]
    },
    {
     "name": "stdout",
     "output_type": "stream",
     "text": [
      "Now processing ['1234573', '2', 'SEN', '2'] for SEN\n"
     ]
    },
    {
     "name": "stderr",
     "output_type": "stream",
     "text": [
      "/tmp/ipykernel_50428/1098954265.py:75: FutureWarning: The behavior of DataFrame concatenation with empty or all-NA entries is deprecated. In a future version, this will no longer exclude empty or all-NA columns when determining the result dtypes. To retain the old behavior, exclude the relevant entries before the concat operation.\n",
      "  patient_dfs[df_key] = pd.concat([patient_dfs[df_key], pd.DataFrame([df_entry])], ignore_index=True)\n"
     ]
    },
    {
     "name": "stdout",
     "output_type": "stream",
     "text": [
      "Now processing ['1234573', '1', 'SEN', '1'] for SEN\n",
      "Now processing ['1234573', '2', 'SEN', '1'] for SEN\n",
      "Now processing ['1234573', '1', 'SEN', '2'] for SEN\n",
      "Now processing ['1234573', '0', 'SEN', '2'] for SEN\n",
      "Now processing ['1234570', '2', 'SEN', '1'] for SEN\n"
     ]
    },
    {
     "name": "stderr",
     "output_type": "stream",
     "text": [
      "/tmp/ipykernel_50428/1098954265.py:75: FutureWarning: The behavior of DataFrame concatenation with empty or all-NA entries is deprecated. In a future version, this will no longer exclude empty or all-NA columns when determining the result dtypes. To retain the old behavior, exclude the relevant entries before the concat operation.\n",
      "  patient_dfs[df_key] = pd.concat([patient_dfs[df_key], pd.DataFrame([df_entry])], ignore_index=True)\n"
     ]
    },
    {
     "name": "stdout",
     "output_type": "stream",
     "text": [
      "Now processing ['1234570', '1', 'SEN', '2'] for SEN\n"
     ]
    },
    {
     "name": "stderr",
     "output_type": "stream",
     "text": [
      "/tmp/ipykernel_50428/1098954265.py:75: FutureWarning: The behavior of DataFrame concatenation with empty or all-NA entries is deprecated. In a future version, this will no longer exclude empty or all-NA columns when determining the result dtypes. To retain the old behavior, exclude the relevant entries before the concat operation.\n",
      "  patient_dfs[df_key] = pd.concat([patient_dfs[df_key], pd.DataFrame([df_entry])], ignore_index=True)\n"
     ]
    },
    {
     "name": "stdout",
     "output_type": "stream",
     "text": [
      "Now processing ['1234570', '0', 'SEN', '2'] for SEN\n",
      "Now processing ['1234570', '1', 'SEN', '1'] for SEN\n",
      "Now processing ['1234570', '2', 'SEN', '2'] for SEN\n",
      "Now processing ['1234570', '0', 'SEN', '1'] for SEN\n",
      "Now processing ['1234567', '3', 'SEN', '1'] for SEN\n"
     ]
    },
    {
     "name": "stderr",
     "output_type": "stream",
     "text": [
      "/tmp/ipykernel_50428/1098954265.py:75: FutureWarning: The behavior of DataFrame concatenation with empty or all-NA entries is deprecated. In a future version, this will no longer exclude empty or all-NA columns when determining the result dtypes. To retain the old behavior, exclude the relevant entries before the concat operation.\n",
      "  patient_dfs[df_key] = pd.concat([patient_dfs[df_key], pd.DataFrame([df_entry])], ignore_index=True)\n"
     ]
    },
    {
     "name": "stdout",
     "output_type": "stream",
     "text": [
      "Now processing ['1234567', '3', 'SEN', '2'] for SEN\n"
     ]
    },
    {
     "name": "stderr",
     "output_type": "stream",
     "text": [
      "/tmp/ipykernel_50428/1098954265.py:75: FutureWarning: The behavior of DataFrame concatenation with empty or all-NA entries is deprecated. In a future version, this will no longer exclude empty or all-NA columns when determining the result dtypes. To retain the old behavior, exclude the relevant entries before the concat operation.\n",
      "  patient_dfs[df_key] = pd.concat([patient_dfs[df_key], pd.DataFrame([df_entry])], ignore_index=True)\n"
     ]
    },
    {
     "name": "stdout",
     "output_type": "stream",
     "text": [
      "Now processing ['1234567', '1', 'SEN', '1'] for SEN\n",
      "Now processing ['1234567', '4', 'SEN', '2'] for SEN\n",
      "Now processing ['1234567', '2', 'SEN', '1'] for SEN\n",
      "Now processing ['1234567', '4', 'SEN', '1'] for SEN\n",
      "Now processing ['1234567', '2', 'SEN', '2'] for SEN\n",
      "Now processing ['1234567', '0', 'SEN', '2'] for SEN\n",
      "Now processing ['1234567', '0', 'SEN', '1'] for SEN\n",
      "Now processing ['1234567', '1', 'SEN', '2'] for SEN\n",
      "Now processing ['1234568', '3', 'SEN', '2'] for SEN\n"
     ]
    },
    {
     "name": "stderr",
     "output_type": "stream",
     "text": [
      "/tmp/ipykernel_50428/1098954265.py:75: FutureWarning: The behavior of DataFrame concatenation with empty or all-NA entries is deprecated. In a future version, this will no longer exclude empty or all-NA columns when determining the result dtypes. To retain the old behavior, exclude the relevant entries before the concat operation.\n",
      "  patient_dfs[df_key] = pd.concat([patient_dfs[df_key], pd.DataFrame([df_entry])], ignore_index=True)\n"
     ]
    },
    {
     "name": "stdout",
     "output_type": "stream",
     "text": [
      "Now processing ['1234568', '0', 'SEN', '2'] for SEN\n",
      "Now processing ['1234568', '1', 'SEN', '1'] for SEN\n"
     ]
    },
    {
     "name": "stderr",
     "output_type": "stream",
     "text": [
      "/tmp/ipykernel_50428/1098954265.py:75: FutureWarning: The behavior of DataFrame concatenation with empty or all-NA entries is deprecated. In a future version, this will no longer exclude empty or all-NA columns when determining the result dtypes. To retain the old behavior, exclude the relevant entries before the concat operation.\n",
      "  patient_dfs[df_key] = pd.concat([patient_dfs[df_key], pd.DataFrame([df_entry])], ignore_index=True)\n"
     ]
    },
    {
     "name": "stdout",
     "output_type": "stream",
     "text": [
      "Now processing ['1234568', '4', 'SEN', '2'] for SEN\n",
      "Now processing ['1234568', '2', 'SEN', '2'] for SEN\n",
      "Now processing ['1234568', '1', 'SEN', '2'] for SEN\n",
      "Now processing ['1234568', '2', 'SEN', '1'] for SEN\n",
      "Now processing ['1234568', '3', 'SEN', '1'] for SEN\n",
      "Now processing ['1234568', '4', 'SEN', '1'] for SEN\n",
      "Now processing ['1234568', '0', 'SEN', '1'] for SEN\n",
      "Now processing ['1234569', '1', 'SEN', '1'] for SEN\n"
     ]
    },
    {
     "name": "stderr",
     "output_type": "stream",
     "text": [
      "/tmp/ipykernel_50428/1098954265.py:75: FutureWarning: The behavior of DataFrame concatenation with empty or all-NA entries is deprecated. In a future version, this will no longer exclude empty or all-NA columns when determining the result dtypes. To retain the old behavior, exclude the relevant entries before the concat operation.\n",
      "  patient_dfs[df_key] = pd.concat([patient_dfs[df_key], pd.DataFrame([df_entry])], ignore_index=True)\n"
     ]
    },
    {
     "name": "stdout",
     "output_type": "stream",
     "text": [
      "Now processing ['1234569', '2', 'SEN', '1'] for SEN\n",
      "Now processing ['1234569', '0', 'SEN', '2'] for SEN\n"
     ]
    },
    {
     "name": "stderr",
     "output_type": "stream",
     "text": [
      "/tmp/ipykernel_50428/1098954265.py:75: FutureWarning: The behavior of DataFrame concatenation with empty or all-NA entries is deprecated. In a future version, this will no longer exclude empty or all-NA columns when determining the result dtypes. To retain the old behavior, exclude the relevant entries before the concat operation.\n",
      "  patient_dfs[df_key] = pd.concat([patient_dfs[df_key], pd.DataFrame([df_entry])], ignore_index=True)\n"
     ]
    },
    {
     "name": "stdout",
     "output_type": "stream",
     "text": [
      "Now processing ['1234569', '1', 'SEN', '2'] for SEN\n",
      "Now processing ['1234569', '2', 'SEN', '2'] for SEN\n",
      "Now processing ['1234569', '0', 'SEN', '1'] for SEN\n",
      "Now processing ['1234572', '0', 'MPT', '1'] for SEN\n",
      "Now processing ['1234572', '2', 'MPT', '1'] for SEN\n",
      "Now processing ['1234572', '0', 'MPT', '2'] for SEN\n",
      "Now processing ['1234572', '1', 'MPT', '1'] for SEN\n",
      "Now processing ['1234572', '2', 'MPT', '2'] for SEN\n",
      "Now processing ['1234572', '1', 'MPT', '2'] for SEN\n",
      "Now processing ['1234571', '0', 'MPT', '1'] for SEN\n",
      "Now processing ['1234571', '0', 'MPT', '2'] for SEN\n",
      "Now processing ['1234571', '1', 'MPT', '2'] for SEN\n",
      "Now processing ['1234571', '1', 'MPT', '1'] for SEN\n",
      "Now processing ['1234571', '3', 'MPT', '1'] for SEN\n",
      "Now processing ['1234571', '2', 'MPT', '2'] for SEN\n",
      "Now processing ['1234571', '2', 'MPT', '1'] for SEN\n",
      "Now processing ['1234571', '3', 'MPT', '2'] for SEN\n",
      "Now processing ['1234573', '1', 'MPT', '1'] for SEN\n",
      "Now processing ['1234573', '0', 'MPT', '1'] for SEN\n",
      "Now processing ['1234573', '2', 'MPT', '2'] for SEN\n",
      "Now processing ['1234573', '1', 'MPT', '2'] for SEN\n",
      "Now processing ['1234573', '0', 'MPT', '2'] for SEN\n",
      "Now processing ['1234573', '2', 'MPT', '1'] for SEN\n",
      "Now processing ['1234570', '2', 'MPT', '2'] for SEN\n",
      "Now processing ['1234570', '1', 'MPT', '1'] for SEN\n",
      "Now processing ['1234570', '1', 'MPT', '2'] for SEN\n",
      "Now processing ['1234570', '0', 'MPT', '1'] for SEN\n",
      "Now processing ['1234570', '0', 'MPT', '2'] for SEN\n",
      "Now processing ['1234570', '2', 'MPT', '1'] for SEN\n",
      "Now processing ['1234567', '1', 'MPT', '1'] for SEN\n",
      "Now processing ['1234567', '2', 'MPT', '1'] for SEN\n",
      "Now processing ['1234567', '4', 'MPT', '1'] for SEN\n",
      "Now processing ['1234567', '0', 'MPT', '2'] for SEN\n",
      "Now processing ['1234567', '3', 'MPT', '2'] for SEN\n",
      "Now processing ['1234567', '1', 'MPT', '2'] for SEN\n",
      "Now processing ['1234567', '0', 'MPT', '1'] for SEN\n",
      "Now processing ['1234567', '2', 'MPT', '2'] for SEN\n",
      "Now processing ['1234567', '4', 'MPT', '2'] for SEN\n",
      "Now processing ['1234567', '3', 'MPT', '1'] for SEN\n",
      "Now processing ['1234568', '2', 'MPT', '2'] for SEN\n",
      "Now processing ['1234568', '0', 'MPT', '1'] for SEN\n",
      "Now processing ['1234568', '4', 'MPT', '1'] for SEN\n",
      "Now processing ['1234568', '3', 'MPT', '1'] for SEN\n",
      "Now processing ['1234568', '2', 'MPT', '1'] for SEN\n",
      "Now processing ['1234568', '4', 'MPT', '2'] for SEN\n",
      "Now processing ['1234568', '3', 'MPT', '2'] for SEN\n",
      "Now processing ['1234568', '1', 'MPT', '2'] for SEN\n",
      "Now processing ['1234568', '0', 'MPT', '2'] for SEN\n",
      "Now processing ['1234568', '1', 'MPT', '1'] for SEN\n",
      "Now processing ['1234569', '1', 'MPT', '2'] for SEN\n",
      "Now processing ['1234569', '0', 'MPT', '1'] for SEN\n",
      "Now processing ['1234569', '0', 'MPT', '2'] for SEN\n",
      "Now processing ['1234569', '1', 'MPT', '1'] for SEN\n",
      "Now processing ['1234569', '2', 'MPT', '2'] for SEN\n",
      "Now processing ['1234569', '2', 'MPT', '1'] for SEN\n",
      "Now processing ['1234572', '0', 'SPN', '2'] for SPN\n"
     ]
    },
    {
     "name": "stderr",
     "output_type": "stream",
     "text": [
      "/tmp/ipykernel_50428/1098954265.py:119: FutureWarning: The behavior of DataFrame concatenation with empty or all-NA entries is deprecated. In a future version, this will no longer exclude empty or all-NA columns when determining the result dtypes. To retain the old behavior, exclude the relevant entries before the concat operation.\n",
      "  patient_dfs[df_key] = pd.concat([patient_dfs[df_key], pd.DataFrame([df_entry])], ignore_index=True)\n"
     ]
    },
    {
     "name": "stdout",
     "output_type": "stream",
     "text": [
      "Now processing ['1234572', '0', 'SPN', '1'] for SPN\n"
     ]
    },
    {
     "name": "stderr",
     "output_type": "stream",
     "text": [
      "/tmp/ipykernel_50428/1098954265.py:119: FutureWarning: The behavior of DataFrame concatenation with empty or all-NA entries is deprecated. In a future version, this will no longer exclude empty or all-NA columns when determining the result dtypes. To retain the old behavior, exclude the relevant entries before the concat operation.\n",
      "  patient_dfs[df_key] = pd.concat([patient_dfs[df_key], pd.DataFrame([df_entry])], ignore_index=True)\n"
     ]
    },
    {
     "name": "stdout",
     "output_type": "stream",
     "text": [
      "Now processing ['1234572', '2', 'SPN', '1'] for SPN\n",
      "Now processing ['1234572', '1', 'SPN', '2'] for SPN\n",
      "Now processing ['1234572', '1', 'SPN', '1'] for SPN\n",
      "Now processing ['1234572', '2', 'SPN', '2'] for SPN\n",
      "Now processing ['1234571', '3', 'SPN', '1'] for SPN\n"
     ]
    },
    {
     "name": "stderr",
     "output_type": "stream",
     "text": [
      "/tmp/ipykernel_50428/1098954265.py:119: FutureWarning: The behavior of DataFrame concatenation with empty or all-NA entries is deprecated. In a future version, this will no longer exclude empty or all-NA columns when determining the result dtypes. To retain the old behavior, exclude the relevant entries before the concat operation.\n",
      "  patient_dfs[df_key] = pd.concat([patient_dfs[df_key], pd.DataFrame([df_entry])], ignore_index=True)\n"
     ]
    },
    {
     "name": "stdout",
     "output_type": "stream",
     "text": [
      "Now processing ['1234571', '1', 'SPN', '1'] for SPN\n",
      "Now processing ['1234571', '2', 'SPN', '2'] for SPN\n"
     ]
    },
    {
     "name": "stderr",
     "output_type": "stream",
     "text": [
      "/tmp/ipykernel_50428/1098954265.py:119: FutureWarning: The behavior of DataFrame concatenation with empty or all-NA entries is deprecated. In a future version, this will no longer exclude empty or all-NA columns when determining the result dtypes. To retain the old behavior, exclude the relevant entries before the concat operation.\n",
      "  patient_dfs[df_key] = pd.concat([patient_dfs[df_key], pd.DataFrame([df_entry])], ignore_index=True)\n"
     ]
    },
    {
     "name": "stdout",
     "output_type": "stream",
     "text": [
      "Now processing ['1234571', '3', 'SPN', '2'] for SPN\n",
      "Now processing ['1234571', '1', 'SPN', '2'] for SPN\n",
      "Now processing ['1234571', '0', 'SPN', '2'] for SPN\n",
      "Now processing ['1234571', '0', 'SPN', '1'] for SPN\n",
      "Now processing ['1234571', '2', 'SPN', '1'] for SPN\n",
      "Now processing ['1234573', '0', 'SPN', '1'] for SPN\n"
     ]
    },
    {
     "name": "stderr",
     "output_type": "stream",
     "text": [
      "/tmp/ipykernel_50428/1098954265.py:119: FutureWarning: The behavior of DataFrame concatenation with empty or all-NA entries is deprecated. In a future version, this will no longer exclude empty or all-NA columns when determining the result dtypes. To retain the old behavior, exclude the relevant entries before the concat operation.\n",
      "  patient_dfs[df_key] = pd.concat([patient_dfs[df_key], pd.DataFrame([df_entry])], ignore_index=True)\n"
     ]
    },
    {
     "name": "stdout",
     "output_type": "stream",
     "text": [
      "Now processing ['1234573', '1', 'SPN', '1'] for SPN\n",
      "Now processing ['1234573', '2', 'SPN', '1'] for SPN\n",
      "Now processing ['1234573', '0', 'SPN', '2'] for SPN\n"
     ]
    },
    {
     "name": "stderr",
     "output_type": "stream",
     "text": [
      "/tmp/ipykernel_50428/1098954265.py:119: FutureWarning: The behavior of DataFrame concatenation with empty or all-NA entries is deprecated. In a future version, this will no longer exclude empty or all-NA columns when determining the result dtypes. To retain the old behavior, exclude the relevant entries before the concat operation.\n",
      "  patient_dfs[df_key] = pd.concat([patient_dfs[df_key], pd.DataFrame([df_entry])], ignore_index=True)\n"
     ]
    },
    {
     "name": "stdout",
     "output_type": "stream",
     "text": [
      "Now processing ['1234573', '2', 'SPN', '2'] for SPN\n",
      "Now processing ['1234573', '1', 'SPN', '2'] for SPN\n",
      "Now processing ['1234570', '2', 'SPN', '1'] for SPN\n"
     ]
    },
    {
     "name": "stderr",
     "output_type": "stream",
     "text": [
      "/tmp/ipykernel_50428/1098954265.py:119: FutureWarning: The behavior of DataFrame concatenation with empty or all-NA entries is deprecated. In a future version, this will no longer exclude empty or all-NA columns when determining the result dtypes. To retain the old behavior, exclude the relevant entries before the concat operation.\n",
      "  patient_dfs[df_key] = pd.concat([patient_dfs[df_key], pd.DataFrame([df_entry])], ignore_index=True)\n"
     ]
    },
    {
     "name": "stdout",
     "output_type": "stream",
     "text": [
      "Now processing ['1234570', '0', 'SPN', '2'] for SPN\n"
     ]
    },
    {
     "name": "stderr",
     "output_type": "stream",
     "text": [
      "/tmp/ipykernel_50428/1098954265.py:119: FutureWarning: The behavior of DataFrame concatenation with empty or all-NA entries is deprecated. In a future version, this will no longer exclude empty or all-NA columns when determining the result dtypes. To retain the old behavior, exclude the relevant entries before the concat operation.\n",
      "  patient_dfs[df_key] = pd.concat([patient_dfs[df_key], pd.DataFrame([df_entry])], ignore_index=True)\n"
     ]
    },
    {
     "name": "stdout",
     "output_type": "stream",
     "text": [
      "Now processing ['1234570', '0', 'SPN', '1'] for SPN\n",
      "Now processing ['1234570', '2', 'SPN', '2'] for SPN\n",
      "Now processing ['1234570', '1', 'SPN', '1'] for SPN\n",
      "Now processing ['1234570', '1', 'SPN', '2'] for SPN\n",
      "Now processing ['1234567', '2', 'SPN', '2'] for SPN\n"
     ]
    },
    {
     "name": "stderr",
     "output_type": "stream",
     "text": [
      "/tmp/ipykernel_50428/1098954265.py:119: FutureWarning: The behavior of DataFrame concatenation with empty or all-NA entries is deprecated. In a future version, this will no longer exclude empty or all-NA columns when determining the result dtypes. To retain the old behavior, exclude the relevant entries before the concat operation.\n",
      "  patient_dfs[df_key] = pd.concat([patient_dfs[df_key], pd.DataFrame([df_entry])], ignore_index=True)\n"
     ]
    },
    {
     "name": "stdout",
     "output_type": "stream",
     "text": [
      "Now processing ['1234567', '0', 'SPN', '1'] for SPN\n"
     ]
    },
    {
     "name": "stderr",
     "output_type": "stream",
     "text": [
      "/tmp/ipykernel_50428/1098954265.py:119: FutureWarning: The behavior of DataFrame concatenation with empty or all-NA entries is deprecated. In a future version, this will no longer exclude empty or all-NA columns when determining the result dtypes. To retain the old behavior, exclude the relevant entries before the concat operation.\n",
      "  patient_dfs[df_key] = pd.concat([patient_dfs[df_key], pd.DataFrame([df_entry])], ignore_index=True)\n"
     ]
    },
    {
     "name": "stdout",
     "output_type": "stream",
     "text": [
      "Now processing ['1234567', '3', 'SPN', '2'] for SPN\n",
      "Now processing ['1234567', '2', 'SPN', '1'] for SPN\n",
      "Now processing ['1234567', '4', 'SPN', '1'] for SPN\n",
      "Now processing ['1234567', '3', 'SPN', '1'] for SPN\n",
      "Now processing ['1234567', '1', 'SPN', '1'] for SPN\n",
      "Now processing ['1234567', '0', 'SPN', '2'] for SPN\n",
      "Now processing ['1234567', '1', 'SPN', '2'] for SPN\n",
      "Now processing ['1234568', '2', 'SPN', '1'] for SPN\n"
     ]
    },
    {
     "name": "stderr",
     "output_type": "stream",
     "text": [
      "/tmp/ipykernel_50428/1098954265.py:119: FutureWarning: The behavior of DataFrame concatenation with empty or all-NA entries is deprecated. In a future version, this will no longer exclude empty or all-NA columns when determining the result dtypes. To retain the old behavior, exclude the relevant entries before the concat operation.\n",
      "  patient_dfs[df_key] = pd.concat([patient_dfs[df_key], pd.DataFrame([df_entry])], ignore_index=True)\n"
     ]
    },
    {
     "name": "stdout",
     "output_type": "stream",
     "text": [
      "Now processing ['1234568', '0', 'SPN', '1'] for SPN\n",
      "Now processing ['1234568', '1', 'SPN', '1'] for SPN\n",
      "Now processing ['1234568', '4', 'SPN', '1'] for SPN\n",
      "Now processing ['1234568', '3', 'SPN', '1'] for SPN\n",
      "Now processing ['1234569', '2', 'SPN', '2'] for SPN\n"
     ]
    },
    {
     "name": "stderr",
     "output_type": "stream",
     "text": [
      "/tmp/ipykernel_50428/1098954265.py:119: FutureWarning: The behavior of DataFrame concatenation with empty or all-NA entries is deprecated. In a future version, this will no longer exclude empty or all-NA columns when determining the result dtypes. To retain the old behavior, exclude the relevant entries before the concat operation.\n",
      "  patient_dfs[df_key] = pd.concat([patient_dfs[df_key], pd.DataFrame([df_entry])], ignore_index=True)\n"
     ]
    },
    {
     "name": "stdout",
     "output_type": "stream",
     "text": [
      "Now processing ['1234569', '0', 'SPN', '1'] for SPN\n"
     ]
    },
    {
     "name": "stderr",
     "output_type": "stream",
     "text": [
      "/tmp/ipykernel_50428/1098954265.py:119: FutureWarning: The behavior of DataFrame concatenation with empty or all-NA entries is deprecated. In a future version, this will no longer exclude empty or all-NA columns when determining the result dtypes. To retain the old behavior, exclude the relevant entries before the concat operation.\n",
      "  patient_dfs[df_key] = pd.concat([patient_dfs[df_key], pd.DataFrame([df_entry])], ignore_index=True)\n"
     ]
    },
    {
     "name": "stdout",
     "output_type": "stream",
     "text": [
      "Now processing ['1234569', '1', 'SPN', '2'] for SPN\n",
      "Now processing ['1234569', '0', 'SPN', '2'] for SPN\n",
      "Now processing ['1234569', '1', 'SPN', '1'] for SPN\n",
      "Now processing ['1234569', '2', 'SPN', '1'] for SPN\n",
      "Now processing ['1234572', '1', 'SEN', '1'] for SPN\n",
      "Now processing ['1234572', '2', 'SEN', '2'] for SPN\n",
      "Now processing ['1234572', '1', 'SEN', '2'] for SPN\n",
      "Now processing ['1234572', '0', 'SEN', '2'] for SPN\n",
      "Now processing ['1234572', '0', 'SEN', '1'] for SPN\n",
      "Now processing ['1234572', '2', 'SEN', '1'] for SPN\n",
      "Now processing ['1234571', '0', 'SEN', '1'] for SPN\n",
      "Now processing ['1234571', '3', 'SEN', '1'] for SPN\n",
      "Now processing ['1234571', '2', 'SEN', '2'] for SPN\n",
      "Now processing ['1234571', '3', 'SEN', '2'] for SPN\n",
      "Now processing ['1234571', '1', 'SEN', '2'] for SPN\n",
      "Now processing ['1234571', '2', 'SEN', '1'] for SPN\n",
      "Now processing ['1234571', '1', 'SEN', '1'] for SPN\n",
      "Now processing ['1234571', '0', 'SEN', '2'] for SPN\n",
      "Now processing ['1234573', '0', 'SEN', '1'] for SPN\n",
      "Now processing ['1234573', '2', 'SEN', '2'] for SPN\n",
      "Now processing ['1234573', '1', 'SEN', '1'] for SPN\n",
      "Now processing ['1234573', '2', 'SEN', '1'] for SPN\n",
      "Now processing ['1234573', '1', 'SEN', '2'] for SPN\n",
      "Now processing ['1234573', '0', 'SEN', '2'] for SPN\n",
      "Now processing ['1234570', '2', 'SEN', '1'] for SPN\n",
      "Now processing ['1234570', '1', 'SEN', '2'] for SPN\n",
      "Now processing ['1234570', '0', 'SEN', '2'] for SPN\n",
      "Now processing ['1234570', '1', 'SEN', '1'] for SPN\n",
      "Now processing ['1234570', '2', 'SEN', '2'] for SPN\n",
      "Now processing ['1234570', '0', 'SEN', '1'] for SPN\n",
      "Now processing ['1234567', '3', 'SEN', '1'] for SPN\n",
      "Now processing ['1234567', '3', 'SEN', '2'] for SPN\n",
      "Now processing ['1234567', '1', 'SEN', '1'] for SPN\n",
      "Now processing ['1234567', '4', 'SEN', '2'] for SPN\n",
      "Now processing ['1234567', '2', 'SEN', '1'] for SPN\n",
      "Now processing ['1234567', '4', 'SEN', '1'] for SPN\n",
      "Now processing ['1234567', '2', 'SEN', '2'] for SPN\n",
      "Now processing ['1234567', '0', 'SEN', '2'] for SPN\n",
      "Now processing ['1234567', '0', 'SEN', '1'] for SPN\n",
      "Now processing ['1234567', '1', 'SEN', '2'] for SPN\n",
      "Now processing ['1234568', '3', 'SEN', '2'] for SPN\n",
      "Now processing ['1234568', '0', 'SEN', '2'] for SPN\n",
      "Now processing ['1234568', '1', 'SEN', '1'] for SPN\n",
      "Now processing ['1234568', '4', 'SEN', '2'] for SPN\n",
      "Now processing ['1234568', '2', 'SEN', '2'] for SPN\n",
      "Now processing ['1234568', '1', 'SEN', '2'] for SPN\n",
      "Now processing ['1234568', '2', 'SEN', '1'] for SPN\n",
      "Now processing ['1234568', '3', 'SEN', '1'] for SPN\n",
      "Now processing ['1234568', '4', 'SEN', '1'] for SPN\n",
      "Now processing ['1234568', '0', 'SEN', '1'] for SPN\n",
      "Now processing ['1234569', '1', 'SEN', '1'] for SPN\n",
      "Now processing ['1234569', '2', 'SEN', '1'] for SPN\n",
      "Now processing ['1234569', '0', 'SEN', '2'] for SPN\n",
      "Now processing ['1234569', '1', 'SEN', '2'] for SPN\n",
      "Now processing ['1234569', '2', 'SEN', '2'] for SPN\n",
      "Now processing ['1234569', '0', 'SEN', '1'] for SPN\n",
      "Now processing ['1234572', '0', 'MPT', '1'] for SPN\n",
      "Now processing ['1234572', '2', 'MPT', '1'] for SPN\n",
      "Now processing ['1234572', '0', 'MPT', '2'] for SPN\n",
      "Now processing ['1234572', '1', 'MPT', '1'] for SPN\n",
      "Now processing ['1234572', '2', 'MPT', '2'] for SPN\n",
      "Now processing ['1234572', '1', 'MPT', '2'] for SPN\n",
      "Now processing ['1234571', '0', 'MPT', '1'] for SPN\n",
      "Now processing ['1234571', '0', 'MPT', '2'] for SPN\n",
      "Now processing ['1234571', '1', 'MPT', '2'] for SPN\n",
      "Now processing ['1234571', '1', 'MPT', '1'] for SPN\n",
      "Now processing ['1234571', '3', 'MPT', '1'] for SPN\n",
      "Now processing ['1234571', '2', 'MPT', '2'] for SPN\n",
      "Now processing ['1234571', '2', 'MPT', '1'] for SPN\n",
      "Now processing ['1234571', '3', 'MPT', '2'] for SPN\n",
      "Now processing ['1234573', '1', 'MPT', '1'] for SPN\n",
      "Now processing ['1234573', '0', 'MPT', '1'] for SPN\n",
      "Now processing ['1234573', '2', 'MPT', '2'] for SPN\n",
      "Now processing ['1234573', '1', 'MPT', '2'] for SPN\n",
      "Now processing ['1234573', '0', 'MPT', '2'] for SPN\n",
      "Now processing ['1234573', '2', 'MPT', '1'] for SPN\n",
      "Now processing ['1234570', '2', 'MPT', '2'] for SPN\n",
      "Now processing ['1234570', '1', 'MPT', '1'] for SPN\n",
      "Now processing ['1234570', '1', 'MPT', '2'] for SPN\n",
      "Now processing ['1234570', '0', 'MPT', '1'] for SPN\n",
      "Now processing ['1234570', '0', 'MPT', '2'] for SPN\n",
      "Now processing ['1234570', '2', 'MPT', '1'] for SPN\n",
      "Now processing ['1234567', '1', 'MPT', '1'] for SPN\n",
      "Now processing ['1234567', '2', 'MPT', '1'] for SPN\n",
      "Now processing ['1234567', '4', 'MPT', '1'] for SPN\n",
      "Now processing ['1234567', '0', 'MPT', '2'] for SPN\n",
      "Now processing ['1234567', '3', 'MPT', '2'] for SPN\n",
      "Now processing ['1234567', '1', 'MPT', '2'] for SPN\n",
      "Now processing ['1234567', '0', 'MPT', '1'] for SPN\n",
      "Now processing ['1234567', '2', 'MPT', '2'] for SPN\n",
      "Now processing ['1234567', '4', 'MPT', '2'] for SPN\n",
      "Now processing ['1234567', '3', 'MPT', '1'] for SPN\n",
      "Now processing ['1234568', '2', 'MPT', '2'] for SPN\n",
      "Now processing ['1234568', '0', 'MPT', '1'] for SPN\n",
      "Now processing ['1234568', '4', 'MPT', '1'] for SPN\n",
      "Now processing ['1234568', '3', 'MPT', '1'] for SPN\n",
      "Now processing ['1234568', '2', 'MPT', '1'] for SPN\n",
      "Now processing ['1234568', '4', 'MPT', '2'] for SPN\n",
      "Now processing ['1234568', '3', 'MPT', '2'] for SPN\n",
      "Now processing ['1234568', '1', 'MPT', '2'] for SPN\n",
      "Now processing ['1234568', '0', 'MPT', '2'] for SPN\n",
      "Now processing ['1234568', '1', 'MPT', '1'] for SPN\n",
      "Now processing ['1234569', '1', 'MPT', '2'] for SPN\n",
      "Now processing ['1234569', '0', 'MPT', '1'] for SPN\n",
      "Now processing ['1234569', '0', 'MPT', '2'] for SPN\n",
      "Now processing ['1234569', '1', 'MPT', '1'] for SPN\n",
      "Now processing ['1234569', '2', 'MPT', '2'] for SPN\n",
      "Now processing ['1234569', '2', 'MPT', '1'] for SPN\n",
      "Now processing ['1234572', '0', 'SPN', '2'] for MPT\n",
      "Now processing ['1234572', '0', 'SPN', '1'] for MPT\n",
      "Now processing ['1234572', '2', 'SPN', '1'] for MPT\n",
      "Now processing ['1234572', '1', 'SPN', '2'] for MPT\n",
      "Now processing ['1234572', '1', 'SPN', '1'] for MPT\n",
      "Now processing ['1234572', '2', 'SPN', '2'] for MPT\n",
      "Now processing ['1234571', '3', 'SPN', '1'] for MPT\n",
      "Now processing ['1234571', '1', 'SPN', '1'] for MPT\n",
      "Now processing ['1234571', '2', 'SPN', '2'] for MPT\n",
      "Now processing ['1234571', '3', 'SPN', '2'] for MPT\n",
      "Now processing ['1234571', '1', 'SPN', '2'] for MPT\n",
      "Now processing ['1234571', '0', 'SPN', '2'] for MPT\n",
      "Now processing ['1234571', '0', 'SPN', '1'] for MPT\n",
      "Now processing ['1234571', '2', 'SPN', '1'] for MPT\n",
      "Now processing ['1234573', '0', 'SPN', '1'] for MPT\n",
      "Now processing ['1234573', '1', 'SPN', '1'] for MPT\n",
      "Now processing ['1234573', '2', 'SPN', '1'] for MPT\n",
      "Now processing ['1234573', '0', 'SPN', '2'] for MPT\n",
      "Now processing ['1234573', '2', 'SPN', '2'] for MPT\n",
      "Now processing ['1234573', '1', 'SPN', '2'] for MPT\n",
      "Now processing ['1234570', '2', 'SPN', '1'] for MPT\n",
      "Now processing ['1234570', '0', 'SPN', '2'] for MPT\n",
      "Now processing ['1234570', '0', 'SPN', '1'] for MPT\n",
      "Now processing ['1234570', '2', 'SPN', '2'] for MPT\n",
      "Now processing ['1234570', '1', 'SPN', '1'] for MPT\n",
      "Now processing ['1234570', '1', 'SPN', '2'] for MPT\n",
      "Now processing ['1234567', '2', 'SPN', '2'] for MPT\n",
      "Now processing ['1234567', '0', 'SPN', '1'] for MPT\n",
      "Now processing ['1234567', '3', 'SPN', '2'] for MPT\n",
      "Now processing ['1234567', '2', 'SPN', '1'] for MPT\n",
      "Now processing ['1234567', '4', 'SPN', '1'] for MPT\n",
      "Now processing ['1234567', '3', 'SPN', '1'] for MPT\n",
      "Now processing ['1234567', '1', 'SPN', '1'] for MPT\n",
      "Now processing ['1234567', '0', 'SPN', '2'] for MPT\n",
      "Now processing ['1234567', '1', 'SPN', '2'] for MPT\n",
      "Now processing ['1234568', '2', 'SPN', '1'] for MPT\n",
      "Now processing ['1234568', '0', 'SPN', '1'] for MPT\n",
      "Now processing ['1234568', '1', 'SPN', '1'] for MPT\n",
      "Now processing ['1234568', '4', 'SPN', '1'] for MPT\n",
      "Now processing ['1234568', '3', 'SPN', '1'] for MPT\n",
      "Now processing ['1234569', '2', 'SPN', '2'] for MPT\n",
      "Now processing ['1234569', '0', 'SPN', '1'] for MPT\n",
      "Now processing ['1234569', '1', 'SPN', '2'] for MPT\n",
      "Now processing ['1234569', '0', 'SPN', '2'] for MPT\n",
      "Now processing ['1234569', '1', 'SPN', '1'] for MPT\n",
      "Now processing ['1234569', '2', 'SPN', '1'] for MPT\n",
      "Now processing ['1234572', '1', 'SEN', '1'] for MPT\n",
      "Now processing ['1234572', '2', 'SEN', '2'] for MPT\n",
      "Now processing ['1234572', '1', 'SEN', '2'] for MPT\n",
      "Now processing ['1234572', '0', 'SEN', '2'] for MPT\n",
      "Now processing ['1234572', '0', 'SEN', '1'] for MPT\n",
      "Now processing ['1234572', '2', 'SEN', '1'] for MPT\n",
      "Now processing ['1234571', '0', 'SEN', '1'] for MPT\n",
      "Now processing ['1234571', '3', 'SEN', '1'] for MPT\n",
      "Now processing ['1234571', '2', 'SEN', '2'] for MPT\n",
      "Now processing ['1234571', '3', 'SEN', '2'] for MPT\n",
      "Now processing ['1234571', '1', 'SEN', '2'] for MPT\n",
      "Now processing ['1234571', '2', 'SEN', '1'] for MPT\n",
      "Now processing ['1234571', '1', 'SEN', '1'] for MPT\n",
      "Now processing ['1234571', '0', 'SEN', '2'] for MPT\n",
      "Now processing ['1234573', '0', 'SEN', '1'] for MPT\n",
      "Now processing ['1234573', '2', 'SEN', '2'] for MPT\n",
      "Now processing ['1234573', '1', 'SEN', '1'] for MPT\n",
      "Now processing ['1234573', '2', 'SEN', '1'] for MPT\n",
      "Now processing ['1234573', '1', 'SEN', '2'] for MPT\n",
      "Now processing ['1234573', '0', 'SEN', '2'] for MPT\n",
      "Now processing ['1234570', '2', 'SEN', '1'] for MPT\n",
      "Now processing ['1234570', '1', 'SEN', '2'] for MPT\n",
      "Now processing ['1234570', '0', 'SEN', '2'] for MPT\n",
      "Now processing ['1234570', '1', 'SEN', '1'] for MPT\n",
      "Now processing ['1234570', '2', 'SEN', '2'] for MPT\n",
      "Now processing ['1234570', '0', 'SEN', '1'] for MPT\n",
      "Now processing ['1234567', '3', 'SEN', '1'] for MPT\n",
      "Now processing ['1234567', '3', 'SEN', '2'] for MPT\n",
      "Now processing ['1234567', '1', 'SEN', '1'] for MPT\n",
      "Now processing ['1234567', '4', 'SEN', '2'] for MPT\n",
      "Now processing ['1234567', '2', 'SEN', '1'] for MPT\n",
      "Now processing ['1234567', '4', 'SEN', '1'] for MPT\n",
      "Now processing ['1234567', '2', 'SEN', '2'] for MPT\n",
      "Now processing ['1234567', '0', 'SEN', '2'] for MPT\n",
      "Now processing ['1234567', '0', 'SEN', '1'] for MPT\n",
      "Now processing ['1234567', '1', 'SEN', '2'] for MPT\n",
      "Now processing ['1234568', '3', 'SEN', '2'] for MPT\n",
      "Now processing ['1234568', '0', 'SEN', '2'] for MPT\n",
      "Now processing ['1234568', '1', 'SEN', '1'] for MPT\n",
      "Now processing ['1234568', '4', 'SEN', '2'] for MPT\n",
      "Now processing ['1234568', '2', 'SEN', '2'] for MPT\n",
      "Now processing ['1234568', '1', 'SEN', '2'] for MPT\n",
      "Now processing ['1234568', '2', 'SEN', '1'] for MPT\n",
      "Now processing ['1234568', '3', 'SEN', '1'] for MPT\n",
      "Now processing ['1234568', '4', 'SEN', '1'] for MPT\n",
      "Now processing ['1234568', '0', 'SEN', '1'] for MPT\n",
      "Now processing ['1234569', '1', 'SEN', '1'] for MPT\n",
      "Now processing ['1234569', '2', 'SEN', '1'] for MPT\n",
      "Now processing ['1234569', '0', 'SEN', '2'] for MPT\n",
      "Now processing ['1234569', '1', 'SEN', '2'] for MPT\n",
      "Now processing ['1234569', '2', 'SEN', '2'] for MPT\n",
      "Now processing ['1234569', '0', 'SEN', '1'] for MPT\n",
      "Now processing ['1234572', '0', 'MPT', '1'] for MPT\n"
     ]
    },
    {
     "name": "stderr",
     "output_type": "stream",
     "text": [
      "/tmp/ipykernel_50428/1098954265.py:159: FutureWarning: The behavior of DataFrame concatenation with empty or all-NA entries is deprecated. In a future version, this will no longer exclude empty or all-NA columns when determining the result dtypes. To retain the old behavior, exclude the relevant entries before the concat operation.\n",
      "  patient_dfs[df_key] = pd.concat([patient_dfs[df_key], pd.DataFrame([df_entry])], ignore_index=True)\n",
      "/tmp/ipykernel_50428/1098954265.py:159: FutureWarning: The behavior of DataFrame concatenation with empty or all-NA entries is deprecated. In a future version, this will no longer exclude empty or all-NA columns when determining the result dtypes. To retain the old behavior, exclude the relevant entries before the concat operation.\n",
      "  patient_dfs[df_key] = pd.concat([patient_dfs[df_key], pd.DataFrame([df_entry])], ignore_index=True)\n"
     ]
    },
    {
     "name": "stdout",
     "output_type": "stream",
     "text": [
      "Now processing ['1234572', '2', 'MPT', '1'] for MPT\n",
      "Now processing ['1234572', '0', 'MPT', '2'] for MPT\n",
      "Now processing ['1234572', '1', 'MPT', '1'] for MPT\n",
      "Now processing ['1234572', '2', 'MPT', '2'] for MPT\n",
      "Now processing ['1234572', '1', 'MPT', '2'] for MPT\n",
      "Now processing ['1234571', '0', 'MPT', '1'] for MPT\n",
      "Now processing ['1234571', '0', 'MPT', '2'] for MPT\n",
      "Now processing ['1234571', '1', 'MPT', '2'] for MPT\n",
      "Now processing ['1234571', '1', 'MPT', '1'] for MPT\n",
      "Now processing ['1234571', '3', 'MPT', '1'] for MPT\n"
     ]
    },
    {
     "name": "stderr",
     "output_type": "stream",
     "text": [
      "/tmp/ipykernel_50428/1098954265.py:159: FutureWarning: The behavior of DataFrame concatenation with empty or all-NA entries is deprecated. In a future version, this will no longer exclude empty or all-NA columns when determining the result dtypes. To retain the old behavior, exclude the relevant entries before the concat operation.\n",
      "  patient_dfs[df_key] = pd.concat([patient_dfs[df_key], pd.DataFrame([df_entry])], ignore_index=True)\n",
      "/tmp/ipykernel_50428/1098954265.py:159: FutureWarning: The behavior of DataFrame concatenation with empty or all-NA entries is deprecated. In a future version, this will no longer exclude empty or all-NA columns when determining the result dtypes. To retain the old behavior, exclude the relevant entries before the concat operation.\n",
      "  patient_dfs[df_key] = pd.concat([patient_dfs[df_key], pd.DataFrame([df_entry])], ignore_index=True)\n"
     ]
    },
    {
     "name": "stdout",
     "output_type": "stream",
     "text": [
      "Now processing ['1234571', '2', 'MPT', '2'] for MPT\n",
      "Now processing ['1234571', '2', 'MPT', '1'] for MPT\n",
      "Now processing ['1234571', '3', 'MPT', '2'] for MPT\n",
      "Now processing ['1234573', '1', 'MPT', '1'] for MPT\n",
      "Now processing ['1234573', '0', 'MPT', '1'] for MPT\n"
     ]
    },
    {
     "name": "stderr",
     "output_type": "stream",
     "text": [
      "/tmp/ipykernel_50428/1098954265.py:159: FutureWarning: The behavior of DataFrame concatenation with empty or all-NA entries is deprecated. In a future version, this will no longer exclude empty or all-NA columns when determining the result dtypes. To retain the old behavior, exclude the relevant entries before the concat operation.\n",
      "  patient_dfs[df_key] = pd.concat([patient_dfs[df_key], pd.DataFrame([df_entry])], ignore_index=True)\n",
      "/tmp/ipykernel_50428/1098954265.py:159: FutureWarning: The behavior of DataFrame concatenation with empty or all-NA entries is deprecated. In a future version, this will no longer exclude empty or all-NA columns when determining the result dtypes. To retain the old behavior, exclude the relevant entries before the concat operation.\n",
      "  patient_dfs[df_key] = pd.concat([patient_dfs[df_key], pd.DataFrame([df_entry])], ignore_index=True)\n"
     ]
    },
    {
     "name": "stdout",
     "output_type": "stream",
     "text": [
      "Now processing ['1234573', '2', 'MPT', '2'] for MPT\n",
      "Now processing ['1234573', '1', 'MPT', '2'] for MPT\n",
      "Now processing ['1234573', '0', 'MPT', '2'] for MPT\n",
      "Now processing ['1234573', '2', 'MPT', '1'] for MPT\n",
      "Now processing ['1234570', '2', 'MPT', '2'] for MPT\n",
      "Now processing ['1234570', '1', 'MPT', '1'] for MPT\n",
      "Now processing ['1234570', '1', 'MPT', '2'] for MPT\n"
     ]
    },
    {
     "name": "stderr",
     "output_type": "stream",
     "text": [
      "/tmp/ipykernel_50428/1098954265.py:159: FutureWarning: The behavior of DataFrame concatenation with empty or all-NA entries is deprecated. In a future version, this will no longer exclude empty or all-NA columns when determining the result dtypes. To retain the old behavior, exclude the relevant entries before the concat operation.\n",
      "  patient_dfs[df_key] = pd.concat([patient_dfs[df_key], pd.DataFrame([df_entry])], ignore_index=True)\n",
      "/tmp/ipykernel_50428/1098954265.py:159: FutureWarning: The behavior of DataFrame concatenation with empty or all-NA entries is deprecated. In a future version, this will no longer exclude empty or all-NA columns when determining the result dtypes. To retain the old behavior, exclude the relevant entries before the concat operation.\n",
      "  patient_dfs[df_key] = pd.concat([patient_dfs[df_key], pd.DataFrame([df_entry])], ignore_index=True)\n"
     ]
    },
    {
     "name": "stdout",
     "output_type": "stream",
     "text": [
      "Now processing ['1234570', '0', 'MPT', '1'] for MPT\n",
      "Now processing ['1234570', '0', 'MPT', '2'] for MPT\n",
      "Now processing ['1234570', '2', 'MPT', '1'] for MPT\n",
      "Now processing ['1234567', '1', 'MPT', '1'] for MPT\n"
     ]
    },
    {
     "name": "stderr",
     "output_type": "stream",
     "text": [
      "/tmp/ipykernel_50428/1098954265.py:159: FutureWarning: The behavior of DataFrame concatenation with empty or all-NA entries is deprecated. In a future version, this will no longer exclude empty or all-NA columns when determining the result dtypes. To retain the old behavior, exclude the relevant entries before the concat operation.\n",
      "  patient_dfs[df_key] = pd.concat([patient_dfs[df_key], pd.DataFrame([df_entry])], ignore_index=True)\n"
     ]
    },
    {
     "name": "stdout",
     "output_type": "stream",
     "text": [
      "Now processing ['1234567', '2', 'MPT', '1'] for MPT\n",
      "Now processing ['1234567', '4', 'MPT', '1'] for MPT\n",
      "Now processing ['1234567', '0', 'MPT', '2'] for MPT\n"
     ]
    },
    {
     "name": "stderr",
     "output_type": "stream",
     "text": [
      "/tmp/ipykernel_50428/1098954265.py:159: FutureWarning: The behavior of DataFrame concatenation with empty or all-NA entries is deprecated. In a future version, this will no longer exclude empty or all-NA columns when determining the result dtypes. To retain the old behavior, exclude the relevant entries before the concat operation.\n",
      "  patient_dfs[df_key] = pd.concat([patient_dfs[df_key], pd.DataFrame([df_entry])], ignore_index=True)\n"
     ]
    },
    {
     "name": "stdout",
     "output_type": "stream",
     "text": [
      "Now processing ['1234567', '3', 'MPT', '2'] for MPT\n",
      "Now processing ['1234567', '1', 'MPT', '2'] for MPT\n",
      "Now processing ['1234567', '0', 'MPT', '1'] for MPT\n",
      "Now processing ['1234567', '2', 'MPT', '2'] for MPT\n",
      "Now processing ['1234567', '4', 'MPT', '2'] for MPT\n",
      "Now processing ['1234567', '3', 'MPT', '1'] for MPT\n",
      "Now processing ['1234568', '2', 'MPT', '2'] for MPT\n",
      "Now processing ['1234568', '0', 'MPT', '1'] for MPT\n",
      "Now processing ['1234568', '4', 'MPT', '1'] for MPT\n",
      "Now processing ['1234568', '3', 'MPT', '1'] for MPT\n"
     ]
    },
    {
     "name": "stderr",
     "output_type": "stream",
     "text": [
      "/tmp/ipykernel_50428/1098954265.py:159: FutureWarning: The behavior of DataFrame concatenation with empty or all-NA entries is deprecated. In a future version, this will no longer exclude empty or all-NA columns when determining the result dtypes. To retain the old behavior, exclude the relevant entries before the concat operation.\n",
      "  patient_dfs[df_key] = pd.concat([patient_dfs[df_key], pd.DataFrame([df_entry])], ignore_index=True)\n",
      "/tmp/ipykernel_50428/1098954265.py:159: FutureWarning: The behavior of DataFrame concatenation with empty or all-NA entries is deprecated. In a future version, this will no longer exclude empty or all-NA columns when determining the result dtypes. To retain the old behavior, exclude the relevant entries before the concat operation.\n",
      "  patient_dfs[df_key] = pd.concat([patient_dfs[df_key], pd.DataFrame([df_entry])], ignore_index=True)\n"
     ]
    },
    {
     "name": "stdout",
     "output_type": "stream",
     "text": [
      "Now processing ['1234568', '2', 'MPT', '1'] for MPT\n",
      "Now processing ['1234568', '4', 'MPT', '2'] for MPT\n",
      "Now processing ['1234568', '3', 'MPT', '2'] for MPT\n",
      "Now processing ['1234568', '1', 'MPT', '2'] for MPT\n",
      "Now processing ['1234568', '0', 'MPT', '2'] for MPT\n",
      "Now processing ['1234568', '1', 'MPT', '1'] for MPT\n",
      "Now processing ['1234569', '1', 'MPT', '2'] for MPT\n"
     ]
    },
    {
     "name": "stderr",
     "output_type": "stream",
     "text": [
      "/tmp/ipykernel_50428/1098954265.py:159: FutureWarning: The behavior of DataFrame concatenation with empty or all-NA entries is deprecated. In a future version, this will no longer exclude empty or all-NA columns when determining the result dtypes. To retain the old behavior, exclude the relevant entries before the concat operation.\n",
      "  patient_dfs[df_key] = pd.concat([patient_dfs[df_key], pd.DataFrame([df_entry])], ignore_index=True)\n",
      "/tmp/ipykernel_50428/1098954265.py:159: FutureWarning: The behavior of DataFrame concatenation with empty or all-NA entries is deprecated. In a future version, this will no longer exclude empty or all-NA columns when determining the result dtypes. To retain the old behavior, exclude the relevant entries before the concat operation.\n",
      "  patient_dfs[df_key] = pd.concat([patient_dfs[df_key], pd.DataFrame([df_entry])], ignore_index=True)\n"
     ]
    },
    {
     "name": "stdout",
     "output_type": "stream",
     "text": [
      "Now processing ['1234569', '0', 'MPT', '1'] for MPT\n",
      "Now processing ['1234569', '0', 'MPT', '2'] for MPT\n",
      "Now processing ['1234569', '1', 'MPT', '1'] for MPT\n",
      "Now processing ['1234569', '2', 'MPT', '2'] for MPT\n",
      "Now processing ['1234569', '2', 'MPT', '1'] for MPT\n"
     ]
    }
   ],
   "source": [
    "### processes only files that have not been processed before\n",
    "### this means that once one file, disregarding which 'day' it was recorded on, has been processed\n",
    "### no new files of this same type (id, exercise, mic, vowel) will be processed\n",
    "all_files = [file for folder in ['SPN', 'SEN', 'MPT'] for file in (processed_dir / folder).rglob('*') if file.is_file()]\n",
    "processed_files = [file for folder in ['SPN', 'SEN', 'MPT'] for file in (features_dir / folder).rglob('*') if file.is_file()]\n",
    "processed_keys = {(file.parts[-2], file.stem[-6:]) for file in processed_files}\n",
    "unprocessed_files = [file for file in all_files if (file.parts[-2], file.stem[-10:-4]) not in processed_keys]\n",
    "\n",
    "### this achieves the same but specifically for VOW exercise recordings\n",
    "all_files_VOW = [file for file in (segments_dir / 'VOW').rglob('*') if file.is_file()]\n",
    "processed_files_VOW = [file for file in (features_dir / 'VOW').rglob('*') if file.is_file()]\n",
    "processed_keys_VOW = {(file.parts[-2], file.stem[-6:]) for file in processed_files_VOW}\n",
    "unprocessed_files_VOW = [file for file in all_files_VOW if (file.parts[-2], file.stem[-10:-4]) not in processed_keys_VOW]\n",
    "\n",
    "# process_audio_files_VOW(\n",
    "#     paths=unprocessed_files_VOW,\n",
    "#     selected_features=selected_features_dict_VOW,\n",
    "#     segment_length=1.0,\n",
    "#     f0_min=60, f0_max=300,\n",
    "#     point_step=0.0025, time_step=0.01, max_frequency=5000, num_formants=5)\n",
    "\n",
    "process_audio_files_SEN(\n",
    "    paths=unprocessed_files,\n",
    "    selected_features=selected_features_dict_SEN,\n",
    "    f0_min=60, f0_max=300,\n",
    "    silence_threshold=50, min_silence_duration=0.5,\n",
    "    num_coefficients=12,\n",
    "    segment_length=1.0,\n",
    "    time_step=0.01, max_frequency=5000, num_formants=5)\n",
    "\n",
    "process_audio_files_SPN(\n",
    "    paths=unprocessed_files,\n",
    "    selected_features=selected_features_dict_SPN,\n",
    "    f0_min=60, f0_max=300,\n",
    "    silence_threshold=50, min_silence_duration=0.5,\n",
    "    num_coefficients=12,\n",
    "    segment_length=1.0,\n",
    "    time_step=0.01, max_frequency=5000, num_formants=5)\n",
    "\n",
    "process_audio_files_MPT(\n",
    "    paths=unprocessed_files,\n",
    "    selected_features=selected_features_dict_MPT,\n",
    "    silence_threshold=50, min_silence_duration=0.5)"
   ]
  }
 ],
 "metadata": {
  "kernelspec": {
   "display_name": "rp2",
   "language": "python",
   "name": "rp2"
  },
  "language_info": {
   "codemirror_mode": {
    "name": "ipython",
    "version": 3
   },
   "file_extension": ".py",
   "mimetype": "text/x-python",
   "name": "python",
   "nbconvert_exporter": "python",
   "pygments_lexer": "ipython3",
   "version": "3.10.16"
  }
 },
 "nbformat": 4,
 "nbformat_minor": 2
}
