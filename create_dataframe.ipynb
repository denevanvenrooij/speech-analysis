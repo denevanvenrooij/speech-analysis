{
 "cells": [
  {
   "cell_type": "code",
   "execution_count": 273,
   "metadata": {},
   "outputs": [
    {
     "data": {
      "text/plain": [
       "<module 'extraction_functions_praat' from '/home/dene/rp2/extraction_functions_praat.py'>"
      ]
     },
     "execution_count": 273,
     "metadata": {},
     "output_type": "execute_result"
    }
   ],
   "source": [
    "import importlib\n",
    "import extraction_functions_praat\n",
    "importlib.reload(extraction_functions_praat)"
   ]
  },
  {
   "cell_type": "code",
   "execution_count": null,
   "metadata": {},
   "outputs": [],
   "source": [
    "from pathlib import Path\n",
    "import pandas as pd\n",
    "from extraction_functions_praat import PP_f0_mean_murton, PP_f0_sd_murton, PP_jitter, PP_f0_mean, PP_f0_sd"
   ]
  },
  {
   "cell_type": "code",
   "execution_count": 275,
   "metadata": {},
   "outputs": [],
   "source": [
    "audio_dir = Path('audio_files_pre/')\n",
    "features_dir = Path('extracted_features/')\n",
    "segments_dir = Path('audio_files_segments/')\n",
    "best_segments_dir = Path('audio_files_segments_best/')"
   ]
  },
  {
   "cell_type": "code",
   "execution_count": 277,
   "metadata": {},
   "outputs": [],
   "source": [
    "AVAILABLE_FEATURES = [\n",
    "    'PP_F0', 'PP_F0_SD', \n",
    "    'PP_F0_M', 'PP_F0_SD_M', \n",
    "    'PP_DUR', \n",
    "    'PP_JIT',\n",
    "] ## add more\n",
    "\n",
    "selected_features_dict = {\n",
    "    'PP_F0': True, 'PP_F0_SD': True, \n",
    "    'PP_F0_M': True, 'PP_F0_SD_M': True, \n",
    "    'PP_DUR': False,\n",
    "    'PP_JIT': True,\n",
    "} ## enable the ones you want"
   ]
  },
  {
   "cell_type": "code",
   "execution_count": 278,
   "metadata": {},
   "outputs": [],
   "source": [
    "def extract_features_vowels(audio_file, selected_features, f0_min, f0_max, jitter_type):\n",
    "    extracted_features = {}\n",
    "    \n",
    "    if 'PP_F0' in selected_features:\n",
    "        extracted_features['PP_F0'] = PP_f0_mean(audio_file, f0_min=f0_min, f0_max=f0_max)\n",
    "    if 'PP_F0_SD' in selected_features:\n",
    "        extracted_features['PP_F0_SD'] = PP_f0_sd(audio_file, f0_min=f0_min, f0_max=f0_max)\n",
    "    if 'PP_F0_M' in selected_features:\n",
    "        extracted_features['PP_F0_M'] = PP_f0_mean_murton(audio_file, f0_min=f0_min, f0_max=f0_max)\n",
    "    if 'PP_F0_SD_M' in selected_features:\n",
    "        extracted_features['PP_F0_SD_M'] = PP_f0_sd_murton(audio_file, f0_min=f0_min, f0_max=f0_max)\n",
    "    if 'PP_JIT' in selected_features:\n",
    "        jitter_values = PP_jitter(audio_file, f0_min=f0_min, f0_max=f0_max, type=jitter_type)\n",
    "        if jitter_type == 'all':\n",
    "            extracted_features['PP_JIT_local'] = jitter_values[0]\n",
    "            extracted_features['PP_JIT_abs'] = jitter_values[1]\n",
    "            extracted_features['PP_JIT_rap'] = jitter_values[2]\n",
    "            extracted_features['PP_JIT_ppq5'] = jitter_values[3]\n",
    "            extracted_features['PP_JIT_ddp'] = jitter_values[4]\n",
    "        else:\n",
    "            extracted_features[f'PP_JIT_{jitter_type}'] = jitter_values\n",
    "            \n",
    "    return extracted_features\n",
    "\n",
    "\n",
    "def extract_features_mpt(audio_file, selected_features, f0_min, f0_max, jitter_type):\n",
    "    extracted_features = {}\n",
    "    \n",
    "    if 'PP_F0' in selected_features:\n",
    "        extracted_features['PP_F0_SD'] = PP_f0_sd(audio_file, f0_min=f0_min, f0_max=f0_max)\n",
    "    if 'PP_F0_SD_M' in selected_features:\n",
    "        extracted_features['PP_F0_SD_M'] = PP_f0_sd_murton(audio_file, f0_min=f0_min, f0_max=f0_max)\n",
    "    if 'PP_JIT' in selected_features:\n",
    "        jitter_values = PP_jitter(audio_file, f0_min=f0_min, f0_max=f0_max, type=jitter_type)\n",
    "        if jitter_type == 'all':\n",
    "            extracted_features['PP_JIT_local'] = jitter_values[0]\n",
    "            extracted_features['PP_JIT_abs'] = jitter_values[1]\n",
    "            extracted_features['PP_JIT_rap'] = jitter_values[2]\n",
    "            extracted_features['PP_JIT_ppq5'] = jitter_values[3]\n",
    "            extracted_features['PP_JIT_ddp'] = jitter_values[4]\n",
    "        else:\n",
    "            extracted_features[f'PP_JIT_{jitter_type}'] = jitter_values\n",
    "            \n",
    "    return extracted_features\n",
    "\n",
    "\n",
    "def extract_features_sentences(audio_file, selected_features, f0_min, f0_max, jitter_type):\n",
    "    extracted_features = {}\n",
    "    \n",
    "    if 'PP_F0' in selected_features:\n",
    "        extracted_features['PP_F0'] = PP_f0_sd(audio_file, f0_min=f0_min, f0_max=f0_max)\n",
    "    if 'PP_JIT' in selected_features:\n",
    "        jitter_values = PP_jitter(audio_file, f0_min=f0_min, f0_max=f0_max, type=jitter_type)\n",
    "        if jitter_type == 'all':\n",
    "            extracted_features['PP_JIT_local'] = jitter_values[0]\n",
    "            extracted_features['PP_JIT_abs'] = jitter_values[1]\n",
    "            extracted_features['PP_JIT_rap'] = jitter_values[2]\n",
    "            extracted_features['PP_JIT_ppq5'] = jitter_values[3]\n",
    "            extracted_features['PP_JIT_ddp'] = jitter_values[4]\n",
    "        else:\n",
    "            extracted_features[f'PP_JIT_{jitter_type}'] = jitter_values\n",
    "            \n",
    "    return extracted_features"
   ]
  },
  {
   "cell_type": "code",
   "execution_count": null,
   "metadata": {},
   "outputs": [],
   "source": [
    "def process_audio_files(directory, selected_features, f0_min, f0_max, jitter_type):\n",
    "    patient_dfs = {}\n",
    "\n",
    "    files = [file for file in directory.rglob('*') if file.is_file()]\n",
    "\n",
    "    for file in files:\n",
    "        filename = file.stem.replace(\"_pre\", \"\")\n",
    "        parts = filename.split(\"_\")\n",
    "        if len(parts) != 4:\n",
    "            print(f\"Unexpected named audio file: {file}\")\n",
    "            continue\n",
    "\n",
    "        patient_id, day, exercise, take_letter = parts\n",
    "\n",
    "        file_path = str(file)\n",
    "        \n",
    "        if exercise == 'VOW':\n",
    "            if directory == best_segments_dir:\n",
    "                if file_path[-1].isdigit(): \n",
    "                    continue ## we do not analyze the best segment of the entire vowel exercise, only of the best segments\n",
    "                if file_path[-1].isalpha():\n",
    "                    features = extract_features_vowels(file_path, selected_features, f0_min, f0_max, jitter_type)\n",
    "            else:\n",
    "                features = extract_features_vowels(file_path, selected_features, f0_min, f0_max, jitter_type)\n",
    "        elif exercise == 'MPT':\n",
    "            features = extract_features_mpt(file_path, selected_features, f0_min, f0_max, jitter_type)\n",
    "        elif exercise == 'SNT':\n",
    "            features = extract_features_sentences(file_path, selected_features, f0_min, f0_max, jitter_type)\n",
    "            \n",
    "        df_entry = {'day': int(day), **features}    \n",
    "            \n",
    "        df_key = (patient_id, take_letter, exercise)\n",
    "        if df_key not in patient_dfs:\n",
    "            patient_dfs[df_key] = pd.DataFrame(columns=['day'] + list(features.keys()))\n",
    "        \n",
    "        patient_dfs[df_key] = pd.concat([patient_dfs[df_key], pd.DataFrame([df_entry])], ignore_index=True)\n",
    "        \n",
    "        for key, df in patient_dfs.items():\n",
    "            patient_dfs[key] = df.sort_values(by='day', ascending=True).reset_index(drop=True)\n",
    "\n",
    "        for (patient_id, take_letter, exercise), df in patient_dfs.items():\n",
    "            file_name = f\"{patient_id}_{exercise}_{take_letter}.csv\"\n",
    "            file_path = features_dir / exercise / patient_id / file_name\n",
    "\n",
    "            df.to_csv(file_path, index=False)"
   ]
  },
  {
   "cell_type": "code",
   "execution_count": null,
   "metadata": {},
   "outputs": [
    {
     "name": "stderr",
     "output_type": "stream",
     "text": [
      "/tmp/ipykernel_107442/2875657790.py:37: FutureWarning: The behavior of DataFrame concatenation with empty or all-NA entries is deprecated. In a future version, this will no longer exclude empty or all-NA columns when determining the result dtypes. To retain the old behavior, exclude the relevant entries before the concat operation.\n",
      "  patient_dfs[df_key] = pd.concat([patient_dfs[df_key], pd.DataFrame([df_entry])], ignore_index=True)\n",
      "/tmp/ipykernel_107442/2875657790.py:37: FutureWarning: The behavior of DataFrame concatenation with empty or all-NA entries is deprecated. In a future version, this will no longer exclude empty or all-NA columns when determining the result dtypes. To retain the old behavior, exclude the relevant entries before the concat operation.\n",
      "  patient_dfs[df_key] = pd.concat([patient_dfs[df_key], pd.DataFrame([df_entry])], ignore_index=True)\n",
      "/tmp/ipykernel_107442/2875657790.py:37: FutureWarning: The behavior of DataFrame concatenation with empty or all-NA entries is deprecated. In a future version, this will no longer exclude empty or all-NA columns when determining the result dtypes. To retain the old behavior, exclude the relevant entries before the concat operation.\n",
      "  patient_dfs[df_key] = pd.concat([patient_dfs[df_key], pd.DataFrame([df_entry])], ignore_index=True)\n",
      "/tmp/ipykernel_107442/2875657790.py:37: FutureWarning: The behavior of DataFrame concatenation with empty or all-NA entries is deprecated. In a future version, this will no longer exclude empty or all-NA columns when determining the result dtypes. To retain the old behavior, exclude the relevant entries before the concat operation.\n",
      "  patient_dfs[df_key] = pd.concat([patient_dfs[df_key], pd.DataFrame([df_entry])], ignore_index=True)\n",
      "/tmp/ipykernel_107442/2875657790.py:37: FutureWarning: The behavior of DataFrame concatenation with empty or all-NA entries is deprecated. In a future version, this will no longer exclude empty or all-NA columns when determining the result dtypes. To retain the old behavior, exclude the relevant entries before the concat operation.\n",
      "  patient_dfs[df_key] = pd.concat([patient_dfs[df_key], pd.DataFrame([df_entry])], ignore_index=True)\n",
      "/tmp/ipykernel_107442/2875657790.py:37: FutureWarning: The behavior of DataFrame concatenation with empty or all-NA entries is deprecated. In a future version, this will no longer exclude empty or all-NA columns when determining the result dtypes. To retain the old behavior, exclude the relevant entries before the concat operation.\n",
      "  patient_dfs[df_key] = pd.concat([patient_dfs[df_key], pd.DataFrame([df_entry])], ignore_index=True)\n",
      "/tmp/ipykernel_107442/2875657790.py:37: FutureWarning: The behavior of DataFrame concatenation with empty or all-NA entries is deprecated. In a future version, this will no longer exclude empty or all-NA columns when determining the result dtypes. To retain the old behavior, exclude the relevant entries before the concat operation.\n",
      "  patient_dfs[df_key] = pd.concat([patient_dfs[df_key], pd.DataFrame([df_entry])], ignore_index=True)\n",
      "/tmp/ipykernel_107442/2875657790.py:37: FutureWarning: The behavior of DataFrame concatenation with empty or all-NA entries is deprecated. In a future version, this will no longer exclude empty or all-NA columns when determining the result dtypes. To retain the old behavior, exclude the relevant entries before the concat operation.\n",
      "  patient_dfs[df_key] = pd.concat([patient_dfs[df_key], pd.DataFrame([df_entry])], ignore_index=True)\n",
      "/tmp/ipykernel_107442/2875657790.py:37: FutureWarning: The behavior of DataFrame concatenation with empty or all-NA entries is deprecated. In a future version, this will no longer exclude empty or all-NA columns when determining the result dtypes. To retain the old behavior, exclude the relevant entries before the concat operation.\n",
      "  patient_dfs[df_key] = pd.concat([patient_dfs[df_key], pd.DataFrame([df_entry])], ignore_index=True)\n",
      "/tmp/ipykernel_107442/2875657790.py:37: FutureWarning: The behavior of DataFrame concatenation with empty or all-NA entries is deprecated. In a future version, this will no longer exclude empty or all-NA columns when determining the result dtypes. To retain the old behavior, exclude the relevant entries before the concat operation.\n",
      "  patient_dfs[df_key] = pd.concat([patient_dfs[df_key], pd.DataFrame([df_entry])], ignore_index=True)\n"
     ]
    }
   ],
   "source": [
    "process_audio_files(\n",
    "    directory=best_segments_dir, ## audio_dir (all pre-emphasized recordings); segments_dir (all entire vowels); best_segments_dir (all 1-sec segments with lowest jitter)\n",
    "    selected_features=selected_features_dict,\n",
    "    f0_min=60, f0_max=300, \n",
    "    jitter_type='abs') ## choose from 'local' 'abs' 'rap' 'ppq5' 'ddp' 'all'"
   ]
  }
 ],
 "metadata": {
  "kernelspec": {
   "display_name": "rp2",
   "language": "python",
   "name": "rp2"
  },
  "language_info": {
   "codemirror_mode": {
    "name": "ipython",
    "version": 3
   },
   "file_extension": ".py",
   "mimetype": "text/x-python",
   "name": "python",
   "nbconvert_exporter": "python",
   "pygments_lexer": "ipython3",
   "version": "3.10.16"
  }
 },
 "nbformat": 4,
 "nbformat_minor": 2
}
