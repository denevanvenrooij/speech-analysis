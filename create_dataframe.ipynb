{
 "cells": [
  {
   "cell_type": "code",
   "execution_count": 14,
   "metadata": {},
   "outputs": [
    {
     "name": "stdout",
     "output_type": "stream",
     "text": [
      "['PP_f0_mean', 'PP_f0_mean_murton', 'PP_f0_sd', 'PP_f0_sd_murton', 'PP_jitter', '__builtins__', '__cached__', '__doc__', '__file__', '__loader__', '__name__', '__package__', '__spec__', 'call', 'np', 'parselmouth']\n"
     ]
    }
   ],
   "source": [
    "import importlib\n",
    "import extraction_functions_praat\n",
    "importlib.reload(extraction_functions_praat)\n",
    "print(dir(extraction_functions_praat))"
   ]
  },
  {
   "cell_type": "code",
   "execution_count": 15,
   "metadata": {},
   "outputs": [],
   "source": [
    "import os\n",
    "import glob\n",
    "import pandas as pd\n",
    "import parselmouth\n",
    "from parselmouth.praat import call\n",
    "from extraction_functions_praat import PP_f0_mean_murton, PP_f0_sd_murton, PP_jitter, PP_f0_mean, PP_f0_sd"
   ]
  },
  {
   "cell_type": "code",
   "execution_count": null,
   "metadata": {},
   "outputs": [],
   "source": [
    "f0_min = 60\n",
    "f0_max = 300\n",
    "jitter_type = 'all' ## choose from 'local' 'abs' 'rap' 'ppq5' 'ddp' 'all'"
   ]
  },
  {
   "cell_type": "code",
   "execution_count": 17,
   "metadata": {},
   "outputs": [],
   "source": [
    "audio_files_dir = 'selected_audio_files/'\n",
    "extracted_acoustic_feature_storage_path = 'extracted_acoustic_features/'\n",
    "if not os.path.exists(extracted_acoustic_feature_storage_path):\n",
    "    os.makedirs(extracted_acoustic_feature_storage_path)\n",
    "\n",
    "AVAILABLE_FEATURES = [\n",
    "    'PP_F0', 'PP_F0_SD', \n",
    "    'PP_F0_M', 'PP_F0_SD_M', \n",
    "    'PP_DUR', \n",
    "    'PP_JIT',\n",
    "] ## add more\n",
    "\n",
    "selected_features_dict = {\n",
    "    'PP_F0': True, 'PP_F0_SD': True, \n",
    "    'PP_F0_M': True, 'PP_F0_SD_M': True, \n",
    "    'PP_DUR': False,\n",
    "    'PP_JIT': True,\n",
    "} ## enable the ones you want\n",
    "\n",
    "if all(selected_features_dict.values()):\n",
    "    selected_features_abrv = \"all\"\n",
    "else:\n",
    "    selected_features_abrv = \"-\".join([feature for feature, enabled in selected_features_dict.items() if enabled])"
   ]
  },
  {
   "cell_type": "code",
   "execution_count": 18,
   "metadata": {},
   "outputs": [],
   "source": [
    "def extract_features_vowels(audio_file, selected_features):\n",
    "\n",
    "    extracted_features = {}\n",
    "    \n",
    "    if 'PP_F0' in selected_features:\n",
    "        extracted_features['PP_F0'] = PP_f0_mean(audio_file, f0_min=f0_min, f0_max=f0_max)\n",
    "    if 'PP_F0_SD' in selected_features:\n",
    "        extracted_features['PP_F0_SD'] = PP_f0_sd(audio_file, f0_min=f0_min, f0_max=f0_max)\n",
    "    if 'PP_F0_M' in selected_features:\n",
    "        extracted_features['PP_F0_M'] = PP_f0_mean_murton(audio_file, f0_min=f0_min, f0_max=f0_max)\n",
    "    if 'PP_F0_SD_M' in selected_features:\n",
    "        extracted_features['PP_F0_SD_M'] = PP_f0_sd_murton(audio_file, f0_min=f0_min, f0_max=f0_max)\n",
    "    if 'PP_JIT' in selected_features:\n",
    "        jitter_values = PP_jitter(audio_file, f0_min=f0_min, f0_max=f0_max, type=jitter_type)\n",
    "        if jitter_type == 'all':\n",
    "            extracted_features['PP_JIT_local'] = jitter_values[0]\n",
    "            extracted_features['PP_JIT_abs'] = jitter_values[1]\n",
    "            extracted_features['PP_JIT_rap'] = jitter_values[2]\n",
    "            extracted_features['PP_JIT_ppq5'] = jitter_values[3]\n",
    "            extracted_features['PP_JIT_ddp'] = jitter_values[4]\n",
    "        else:\n",
    "            extracted_features[f'PP_JIT_{jitter_type}'] = jitter_values\n",
    "            \n",
    "    return extracted_features\n",
    "\n",
    "\n",
    "def extract_features_mpt(audio_file, selected_features):\n",
    "\n",
    "    sound = parselmouth.Sound(audio_file)\n",
    "    extracted_features = {}\n",
    "    \n",
    "    if 'PP_F0' in selected_features:\n",
    "        extracted_features['PP_F0_SD'] = PP_f0_sd(audio_file, f0_min=f0_min, f0_max=f0_max)\n",
    "    if 'PP_F0_SD_M' in selected_features:\n",
    "        extracted_features['PP_F0_SD_M'] = PP_f0_sd_murton(audio_file, f0_min=f0_min, f0_max=f0_max)\n",
    "    # if 'PP_DUR' in selected_features:\n",
    "        # extracted_features['PP_DUR'] = PP_duration(audio_file)\n",
    "    \n",
    "    return extracted_features\n",
    "\n",
    "\n",
    "def extract_features_sentences(audio_file, selected_features):\n",
    "\n",
    "    sound = parselmouth.Sound(audio_file)\n",
    "    extracted_features = {}\n",
    "    \n",
    "    if 'PP_F0' in selected_features:\n",
    "        extracted_features['PP_F0'] = PP_f0_sd(audio_file, f0_min=f0_min, f0_max=f0_max)\n",
    "    \n",
    "    return extracted_features"
   ]
  },
  {
   "cell_type": "code",
   "execution_count": 19,
   "metadata": {},
   "outputs": [],
   "source": [
    "def process_audio_files(audio_files_dir, selected_features):\n",
    "\n",
    "    patient_df = {}\n",
    "    \n",
    "    # for file in os.listdir(audio_files_dir):\n",
    "    #     if file.endswith(\".wav\") and not file.endswith(\"pre.wav\"):\n",
    "    #         for file in glob.glob(f\"{audio_files_dir}/*.wav\"): ## pre-emphasize all sounds and store them again\n",
    "    #             print(\"Processing {}...\".format(file))\n",
    "    #             s = parselmouth.Sound(file)\n",
    "    #             s.pre_emphasize()\n",
    "    #             s.save(os.path.splitext(file)[0] + \"pre.wav\", 'WAV')\n",
    "\n",
    "    for file in os.listdir(audio_files_dir):\n",
    "        if file.endswith(\".wav\") and not file.endswith(\"pre.wav\"):\n",
    "            print(f\"Processing {file}...\")\n",
    "            file_path = os.path.join(audio_files_dir, file)\n",
    "            s = parselmouth.Sound(file_path)\n",
    "            s.pre_emphasize()\n",
    "            s.save(os.path.splitext(file_path)[0] + \"pre.wav\", 'WAV')     \n",
    "     \n",
    "            parts = file.replace(\"pre.wav\", \"\").split(\"_\")\n",
    "            if len(parts) < 4 or len(parts) > 4:\n",
    "                print(f\"Unexpected named audio file: {file}\")\n",
    "                continue\n",
    "\n",
    "            patient_id, day, exercise, take = parts\n",
    "    \n",
    "            file_path = os.path.join(audio_files_dir, file)\n",
    "            \n",
    "            if exercise == 'VOW':\n",
    "                features = extract_features_vowels(file_path, selected_features)\n",
    "            elif exercise == 'MPT':\n",
    "                features = extract_features_mpt(file_path, selected_features)\n",
    "            elif exercise == 'SNT':\n",
    "                features = extract_features_sentences(file_path, selected_features)\n",
    "                \n",
    "            df_entry = {'day': int(day), **features}\n",
    "            \n",
    "            if patient_id not in patient_df:\n",
    "                patient_df[patient_id] = {}\n",
    "                \n",
    "            if exercise not in patient_df[patient_id]:\n",
    "                patient_df[patient_id][exercise] = []\n",
    "            \n",
    "            patient_df[patient_id][exercise].append(df_entry)\n",
    "    \n",
    "    for patient_id, exercises in patient_df.items():\n",
    "        output_dir = f\"{extracted_acoustic_feature_storage_path}_{patient_id}/\"\n",
    "        os.makedirs(output_dir, exist_ok=True)\n",
    "\n",
    "        for exercise, data in exercises.items():\n",
    "            df = pd.DataFrame(data)\n",
    "            df.to_csv(os.path.join(output_dir, f\"{exercise}_{selected_features_abrv}.csv\"), index=False)"
   ]
  },
  {
   "cell_type": "code",
   "execution_count": 20,
   "metadata": {},
   "outputs": [
    {
     "name": "stdout",
     "output_type": "stream",
     "text": [
      "Processing 1234567_0_VOW_1.wav...\n",
      "Processing 1234568_0_VOW_1.wav...\n"
     ]
    }
   ],
   "source": [
    "process_audio_files(audio_files_dir, selected_features=selected_features_dict)"
   ]
  }
 ],
 "metadata": {
  "kernelspec": {
   "display_name": "rp2",
   "language": "python",
   "name": "rp2"
  },
  "language_info": {
   "codemirror_mode": {
    "name": "ipython",
    "version": 3
   },
   "file_extension": ".py",
   "mimetype": "text/x-python",
   "name": "python",
   "nbconvert_exporter": "python",
   "pygments_lexer": "ipython3",
   "version": "3.10.16"
  }
 },
 "nbformat": 4,
 "nbformat_minor": 2
}
