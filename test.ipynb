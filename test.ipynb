{
 "cells": [
  {
   "cell_type": "code",
   "execution_count": 1,
   "metadata": {},
   "outputs": [],
   "source": [
    "import parselmouth\n",
    "from parselmouth.praat import call\n",
    "import numpy as np\n",
    "import pandas as pd\n",
    "import matplotlib.pyplot as plt"
   ]
  },
  {
   "cell_type": "code",
   "execution_count": null,
   "metadata": {},
   "outputs": [],
   "source": [
    "def compute_lh_ratio(audio_file):\n",
    "    sound = parselmouth.Sound(audio_file)\n",
    "    \n",
    "    spectrum = sound.to_spectrum()\n",
    "    \n",
    "    lh_ratio = spectrum.get_band_energy(low_band_floor=0,low_band_ceiling=4000, high_band_floor=4000, high_band_ceiling=10000)\n",
    "    \n",
    "    return lh_ratio"
   ]
  },
  {
   "cell_type": "code",
   "execution_count": 11,
   "metadata": {},
   "outputs": [
    {
     "ename": "TypeError",
     "evalue": "get_band_energy(): incompatible function arguments. The following argument types are supported:\n    1. (self: parselmouth.Spectrum, band_floor: Optional[float] = None, band_ceiling: Optional[float] = None) -> float\n    2. (self: parselmouth.Spectrum, band: Tuple[Optional[float], Optional[float]] = (None, None)) -> float\n\nInvoked with: <parselmouth.Spectrum object at 0x7f4614440cf0>, 0, 4000, 4000, 10000",
     "output_type": "error",
     "traceback": [
      "\u001b[0;31m---------------------------------------------------------------------------\u001b[0m",
      "\u001b[0;31mTypeError\u001b[0m                                 Traceback (most recent call last)",
      "Cell \u001b[0;32mIn[11], line 1\u001b[0m\n\u001b[0;32m----> 1\u001b[0m \u001b[43mcompute_lh_ratio\u001b[49m\u001b[43m(\u001b[49m\u001b[43maudio_file\u001b[49m\u001b[38;5;241;43m=\u001b[39;49m\u001b[38;5;124;43m'\u001b[39;49m\u001b[38;5;124;43maudio_files_pre/VOW/1234568/1234568_0_VOW_1_pre.wav\u001b[39;49m\u001b[38;5;124;43m'\u001b[39;49m\u001b[43m)\u001b[49m\n",
      "Cell \u001b[0;32mIn[10], line 6\u001b[0m, in \u001b[0;36mcompute_lh_ratio\u001b[0;34m(audio_file)\u001b[0m\n\u001b[1;32m      2\u001b[0m sound \u001b[38;5;241m=\u001b[39m parselmouth\u001b[38;5;241m.\u001b[39mSound(audio_file)\n\u001b[1;32m      4\u001b[0m spectrum \u001b[38;5;241m=\u001b[39m sound\u001b[38;5;241m.\u001b[39mto_spectrum()\n\u001b[0;32m----> 6\u001b[0m lh_ratio \u001b[38;5;241m=\u001b[39m \u001b[43mspectrum\u001b[49m\u001b[38;5;241;43m.\u001b[39;49m\u001b[43mget_band_energy\u001b[49m\u001b[43m(\u001b[49m\u001b[38;5;241;43m0\u001b[39;49m\u001b[43m,\u001b[49m\u001b[43m \u001b[49m\u001b[38;5;241;43m4000\u001b[39;49m\u001b[43m,\u001b[49m\u001b[43m \u001b[49m\u001b[38;5;241;43m4000\u001b[39;49m\u001b[43m,\u001b[49m\u001b[43m \u001b[49m\u001b[38;5;241;43m10000\u001b[39;49m\u001b[43m)\u001b[49m\n\u001b[1;32m      8\u001b[0m \u001b[38;5;28;01mreturn\u001b[39;00m lh_ratio\n",
      "\u001b[0;31mTypeError\u001b[0m: get_band_energy(): incompatible function arguments. The following argument types are supported:\n    1. (self: parselmouth.Spectrum, band_floor: Optional[float] = None, band_ceiling: Optional[float] = None) -> float\n    2. (self: parselmouth.Spectrum, band: Tuple[Optional[float], Optional[float]] = (None, None)) -> float\n\nInvoked with: <parselmouth.Spectrum object at 0x7f4614440cf0>, 0, 4000, 4000, 10000"
     ]
    }
   ],
   "source": [
    "compute_lh_ratio(audio_file='audio_files_pre/VOW/1234568/1234568_0_VOW_1_pre.wav')"
   ]
  }
 ],
 "metadata": {
  "kernelspec": {
   "display_name": "rp2",
   "language": "python",
   "name": "rp2"
  },
  "language_info": {
   "codemirror_mode": {
    "name": "ipython",
    "version": 3
   },
   "file_extension": ".py",
   "mimetype": "text/x-python",
   "name": "python",
   "nbconvert_exporter": "python",
   "pygments_lexer": "ipython3",
   "version": "3.10.16"
  }
 },
 "nbformat": 4,
 "nbformat_minor": 2
}
