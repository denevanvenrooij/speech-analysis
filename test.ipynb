{
 "cells": [
  {
   "cell_type": "code",
   "execution_count": 42,
   "metadata": {},
   "outputs": [],
   "source": [
    "import parselmouth\n",
    "from parselmouth.praat import call\n",
    "import numpy as np\n",
    "import pandas as pd\n",
    "import matplotlib.pyplot as plt"
   ]
  },
  {
   "cell_type": "code",
   "execution_count": null,
   "metadata": {},
   "outputs": [
    {
     "name": "stdout",
     "output_type": "stream",
     "text": [
      "Mean Cepstral Peak Prominence (CPP): 0.13 dB\n"
     ]
    }
   ],
   "source": [
    "def PP_cpp_murton(audio_file):\n",
    "    sound = parselmouth.Sound(audio_file)\n",
    "    duration = sound.get_total_duration()\n",
    "    sampling_rate = sound.sampling_frequency\n",
    "\n",
    "    cpp_values = []\n",
    "    window_length = 40.96e-3 ## 40.96 ms\n",
    "    step_size = 10.24e-3     ## 10.24 ms\n",
    "\n",
    "    for start_time in np.arange(0, duration - window_length, step_size):\n",
    "        frame = sound.extract_part(start_time, start_time + window_length)\n",
    "        spectrum = frame.to_spectrum()\n",
    "        log_spectrum = np.log(np.sum(spectrum.values**2, axis=0) + 1e-10)  ## apparently this avoid log(0)\n",
    "        \n",
    "        cepstrum = np.fft.irfft(log_spectrum)[:len(log_spectrum) * 2 - 2]\n",
    "        quefrencies = np.arange(len(cepstrum)) / sampling_rate\n",
    "        quefrency_min = 3.3e-3   ## 300 Hz\n",
    "        quefrency_max = 16.7e-3  ##  60 Hz\n",
    "\n",
    "        quefrency_indices = np.where((quefrencies >= quefrency_min) & (quefrencies <= quefrency_max))[0]\n",
    "        if not len(quefrency_indices): \n",
    "            continue  ## skips empty frames\n",
    "\n",
    "        peak_index = quefrency_indices[np.argmax(cepstrum[quefrency_indices])]\n",
    "        cpp_peak = cepstrum[peak_index]\n",
    "\n",
    "        noise_floor = np.median(cepstrum[quefrency_indices]) ## when this is not good enough use LR\n",
    "\n",
    "        cpp_values.append(cpp_peak - noise_floor)\n",
    "        mean_cpp = np.mean(cpp_values)\n",
    "\n",
    "    return mean_cpp\n",
    "\n",
    "cpp = compute_cpp('audio_files_segments/VOW/1234567/1234567_0_VOW_1a_pre.wav')\n",
    "print(f\"Mean Cepstral Peak Prominence (CPP): {cpp:.2f} dB\")\n"
   ]
  }
 ],
 "metadata": {
  "kernelspec": {
   "display_name": "rp2",
   "language": "python",
   "name": "rp2"
  },
  "language_info": {
   "codemirror_mode": {
    "name": "ipython",
    "version": 3
   },
   "file_extension": ".py",
   "mimetype": "text/x-python",
   "name": "python",
   "nbconvert_exporter": "python",
   "pygments_lexer": "ipython3",
   "version": "3.10.16"
  }
 },
 "nbformat": 4,
 "nbformat_minor": 2
}
