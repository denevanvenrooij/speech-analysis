{
 "cells": [
  {
   "cell_type": "code",
   "execution_count": null,
   "metadata": {},
   "outputs": [],
   "source": [
    "## setup code for parsing arguments in my scripts\n",
    "import argparse\n",
    "from pathlib import Path\n",
    "import sys\n",
    "\n",
    "def main():\n",
    "    parser = argparse.ArgumentParser(\n",
    "        description=\"Extract phonation features from audio files.\"\n",
    "    )\n",
    "    parser.add_argument(\"input_path\", type=Path, help=\"Path to audio file or folder\")\n",
    "    parser.add_argument(\"output_file\", type=Path, help=\"Path to output feature file\")\n",
    "    parser.add_argument(\"static\", type=str, help=\"Static features: 'true' or 'false'\")\n",
    "    parser.add_argument(\"plots\", type=str, help=\"Plot results: 'true' or 'false'\")\n",
    "    parser.add_argument(\"format\", type=str, choices=[\"csv\", \"txt\", \"npy\", \"kaldi\", \"torch\"],\n",
    "                        help=\"Output file format\")\n",
    "\n",
    "    args = parser.parse_args()\n",
    "\n",
    "    input_path = args.input_path\n",
    "    output_file = args.output_file\n",
    "    static = args.static.lower() == 'true'\n",
    "    plots = args.plots.lower() == 'true' \n",
    "    output_format = args.format\n",
    "\n",
    "    # Input validation and handling\n",
    "    if input_path.is_dir() or input_path.is_file():\n",
    "        print(f\"Processing {input_path}\")\n",
    "    else:\n",
    "        print(f\"Input path does not exist {input_path}\")\n",
    "        sys.exit(1)\n",
    "\n",
    "    print(f\"Output stored at {output_file}\")\n",
    "    print(f\"Static {static}\")\n",
    "    print(f\"Generate plots {plots}\")\n",
    "    print(f\"Output format {output_format}\")\n",
    "\n",
    "if __name__ == \"__main__\":\n",
    "    main()\n"
   ]
  }
 ],
 "metadata": {
  "kernelspec": {
   "display_name": "rp2",
   "language": "python",
   "name": "rp2"
  },
  "language_info": {
   "codemirror_mode": {
    "name": "ipython",
    "version": 3
   },
   "file_extension": ".py",
   "mimetype": "text/x-python",
   "name": "python",
   "nbconvert_exporter": "python",
   "pygments_lexer": "ipython3",
   "version": "3.10.16"
  }
 },
 "nbformat": 4,
 "nbformat_minor": 2
}
