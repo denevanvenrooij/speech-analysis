{
 "cells": [
  {
   "cell_type": "code",
   "execution_count": 31,
   "metadata": {},
   "outputs": [],
   "source": [
    "import parselmouth\n",
    "from parselmouth.praat import call\n",
    "import numpy as np\n",
    "import pandas as pd\n",
    "import matplotlib.pyplot as plt"
   ]
  },
  {
   "cell_type": "code",
   "execution_count": 32,
   "metadata": {},
   "outputs": [],
   "source": [
    "def compute_lh_ratio(audio_file):\n",
    "    sound = parselmouth.Sound(audio_file)\n",
    "    \n",
    "    spectrum = sound.to_spectrum()\n",
    "    \n",
    "    low_energy = spectrum.get_band_energy(0, 4000)\n",
    "    high_energy = spectrum.get_band_energy(4000, 10000)\n",
    "    \n",
    "    lh_ratio = 10 * np.log10(low_energy / high_energy)\n",
    "    \n",
    "    return lh_ratio"
   ]
  },
  {
   "cell_type": "code",
   "execution_count": 33,
   "metadata": {},
   "outputs": [
    {
     "data": {
      "text/plain": [
       "np.float64(17.613846507211896)"
      ]
     },
     "execution_count": 33,
     "metadata": {},
     "output_type": "execute_result"
    }
   ],
   "source": [
    "compute_lh_ratio(audio_file='audio_files_pre/VOW/1234568/1234568_0_VOW_1_pre.wav')"
   ]
  },
  {
   "cell_type": "code",
   "execution_count": 35,
   "metadata": {},
   "outputs": [
    {
     "name": "stdout",
     "output_type": "stream",
     "text": [
      "Size of cepstrum: (2, 1048577)\n"
     ]
    },
    {
     "name": "stderr",
     "output_type": "stream",
     "text": [
      "/tmp/ipykernel_107186/974425290.py:8: RuntimeWarning: divide by zero encountered in log\n",
      "  log_spectrum = np.log(spectrum.values)\n",
      "/tmp/ipykernel_107186/974425290.py:8: RuntimeWarning: invalid value encountered in log\n",
      "  log_spectrum = np.log(spectrum.values)\n"
     ]
    },
    {
     "ename": "ValueError",
     "evalue": "zero-size array to reduction operation maximum which has no identity",
     "output_type": "error",
     "traceback": [
      "\u001b[0;31m---------------------------------------------------------------------------\u001b[0m",
      "\u001b[0;31mValueError\u001b[0m                                Traceback (most recent call last)",
      "Cell \u001b[0;32mIn[35], line 56\u001b[0m\n\u001b[1;32m     53\u001b[0m     \u001b[38;5;28;01mreturn\u001b[39;00m np\u001b[38;5;241m.\u001b[39mmean(cpp_values)\n\u001b[1;32m     55\u001b[0m \u001b[38;5;66;03m# Example usage\u001b[39;00m\n\u001b[0;32m---> 56\u001b[0m cpp \u001b[38;5;241m=\u001b[39m \u001b[43mcompute_cpp\u001b[49m\u001b[43m(\u001b[49m\u001b[38;5;124;43m'\u001b[39;49m\u001b[38;5;124;43maudio_files_pre/VOW/1234568/1234568_0_VOW_1_pre.wav\u001b[39;49m\u001b[38;5;124;43m'\u001b[39;49m\u001b[43m)\u001b[49m\n\u001b[1;32m     57\u001b[0m \u001b[38;5;28mprint\u001b[39m(\u001b[38;5;124mf\u001b[39m\u001b[38;5;124m\"\u001b[39m\u001b[38;5;124mMean Cepstral Peak Prominence (CPP): \u001b[39m\u001b[38;5;132;01m{\u001b[39;00mcpp\u001b[38;5;132;01m:\u001b[39;00m\u001b[38;5;124m.2f\u001b[39m\u001b[38;5;132;01m}\u001b[39;00m\u001b[38;5;124m dB\u001b[39m\u001b[38;5;124m\"\u001b[39m)\n",
      "Cell \u001b[0;32mIn[35], line 39\u001b[0m, in \u001b[0;36mcompute_cpp\u001b[0;34m(audio_file)\u001b[0m\n\u001b[1;32m     36\u001b[0m \u001b[38;5;28;01mfor\u001b[39;00m frame \u001b[38;5;129;01min\u001b[39;00m \u001b[38;5;28mrange\u001b[39m(spectrum\u001b[38;5;241m.\u001b[39mnx):\n\u001b[1;32m     37\u001b[0m     \u001b[38;5;66;03m# Get the entire cepstrum column for this frame (real part)\u001b[39;00m\n\u001b[1;32m     38\u001b[0m     column \u001b[38;5;241m=\u001b[39m cepstrum[:, frame]  \u001b[38;5;66;03m# Access entire column (all frequency bins)\u001b[39;00m\n\u001b[0;32m---> 39\u001b[0m     peak_value \u001b[38;5;241m=\u001b[39m \u001b[43mnp\u001b[49m\u001b[38;5;241;43m.\u001b[39;49m\u001b[43mmax\u001b[49m\u001b[43m(\u001b[49m\u001b[43mcolumn\u001b[49m\u001b[43m[\u001b[49m\u001b[43mmin_index\u001b[49m\u001b[43m:\u001b[49m\u001b[43mmax_index\u001b[49m\u001b[43m]\u001b[49m\u001b[43m)\u001b[49m  \u001b[38;5;66;03m# Maximum peak in range\u001b[39;00m\n\u001b[1;32m     40\u001b[0m     peak_magnitudes\u001b[38;5;241m.\u001b[39mappend(peak_value)\n\u001b[1;32m     42\u001b[0m \u001b[38;5;66;03m# Compute noise floor (average cepstral magnitude excluding peak)\u001b[39;00m\n",
      "File \u001b[0;32m~/.local/lib/python3.10/site-packages/numpy/_core/fromnumeric.py:3164\u001b[0m, in \u001b[0;36mmax\u001b[0;34m(a, axis, out, keepdims, initial, where)\u001b[0m\n\u001b[1;32m   3052\u001b[0m \u001b[38;5;129m@array_function_dispatch\u001b[39m(_max_dispatcher)\n\u001b[1;32m   3053\u001b[0m \u001b[38;5;129m@set_module\u001b[39m(\u001b[38;5;124m'\u001b[39m\u001b[38;5;124mnumpy\u001b[39m\u001b[38;5;124m'\u001b[39m)\n\u001b[1;32m   3054\u001b[0m \u001b[38;5;28;01mdef\u001b[39;00m \u001b[38;5;21mmax\u001b[39m(a, axis\u001b[38;5;241m=\u001b[39m\u001b[38;5;28;01mNone\u001b[39;00m, out\u001b[38;5;241m=\u001b[39m\u001b[38;5;28;01mNone\u001b[39;00m, keepdims\u001b[38;5;241m=\u001b[39mnp\u001b[38;5;241m.\u001b[39m_NoValue, initial\u001b[38;5;241m=\u001b[39mnp\u001b[38;5;241m.\u001b[39m_NoValue,\n\u001b[1;32m   3055\u001b[0m          where\u001b[38;5;241m=\u001b[39mnp\u001b[38;5;241m.\u001b[39m_NoValue):\n\u001b[1;32m   3056\u001b[0m \u001b[38;5;250m    \u001b[39m\u001b[38;5;124;03m\"\"\"\u001b[39;00m\n\u001b[1;32m   3057\u001b[0m \u001b[38;5;124;03m    Return the maximum of an array or maximum along an axis.\u001b[39;00m\n\u001b[1;32m   3058\u001b[0m \n\u001b[0;32m   (...)\u001b[0m\n\u001b[1;32m   3162\u001b[0m \u001b[38;5;124;03m    5\u001b[39;00m\n\u001b[1;32m   3163\u001b[0m \u001b[38;5;124;03m    \"\"\"\u001b[39;00m\n\u001b[0;32m-> 3164\u001b[0m     \u001b[38;5;28;01mreturn\u001b[39;00m \u001b[43m_wrapreduction\u001b[49m\u001b[43m(\u001b[49m\u001b[43ma\u001b[49m\u001b[43m,\u001b[49m\u001b[43m \u001b[49m\u001b[43mnp\u001b[49m\u001b[38;5;241;43m.\u001b[39;49m\u001b[43mmaximum\u001b[49m\u001b[43m,\u001b[49m\u001b[43m \u001b[49m\u001b[38;5;124;43m'\u001b[39;49m\u001b[38;5;124;43mmax\u001b[39;49m\u001b[38;5;124;43m'\u001b[39;49m\u001b[43m,\u001b[49m\u001b[43m \u001b[49m\u001b[43maxis\u001b[49m\u001b[43m,\u001b[49m\u001b[43m \u001b[49m\u001b[38;5;28;43;01mNone\u001b[39;49;00m\u001b[43m,\u001b[49m\u001b[43m \u001b[49m\u001b[43mout\u001b[49m\u001b[43m,\u001b[49m\n\u001b[1;32m   3165\u001b[0m \u001b[43m                          \u001b[49m\u001b[43mkeepdims\u001b[49m\u001b[38;5;241;43m=\u001b[39;49m\u001b[43mkeepdims\u001b[49m\u001b[43m,\u001b[49m\u001b[43m \u001b[49m\u001b[43minitial\u001b[49m\u001b[38;5;241;43m=\u001b[39;49m\u001b[43minitial\u001b[49m\u001b[43m,\u001b[49m\u001b[43m \u001b[49m\u001b[43mwhere\u001b[49m\u001b[38;5;241;43m=\u001b[39;49m\u001b[43mwhere\u001b[49m\u001b[43m)\u001b[49m\n",
      "File \u001b[0;32m~/.local/lib/python3.10/site-packages/numpy/_core/fromnumeric.py:86\u001b[0m, in \u001b[0;36m_wrapreduction\u001b[0;34m(obj, ufunc, method, axis, dtype, out, **kwargs)\u001b[0m\n\u001b[1;32m     83\u001b[0m         \u001b[38;5;28;01melse\u001b[39;00m:\n\u001b[1;32m     84\u001b[0m             \u001b[38;5;28;01mreturn\u001b[39;00m reduction(axis\u001b[38;5;241m=\u001b[39maxis, out\u001b[38;5;241m=\u001b[39mout, \u001b[38;5;241m*\u001b[39m\u001b[38;5;241m*\u001b[39mpasskwargs)\n\u001b[0;32m---> 86\u001b[0m \u001b[38;5;28;01mreturn\u001b[39;00m \u001b[43mufunc\u001b[49m\u001b[38;5;241;43m.\u001b[39;49m\u001b[43mreduce\u001b[49m\u001b[43m(\u001b[49m\u001b[43mobj\u001b[49m\u001b[43m,\u001b[49m\u001b[43m \u001b[49m\u001b[43maxis\u001b[49m\u001b[43m,\u001b[49m\u001b[43m \u001b[49m\u001b[43mdtype\u001b[49m\u001b[43m,\u001b[49m\u001b[43m \u001b[49m\u001b[43mout\u001b[49m\u001b[43m,\u001b[49m\u001b[43m \u001b[49m\u001b[38;5;241;43m*\u001b[39;49m\u001b[38;5;241;43m*\u001b[39;49m\u001b[43mpasskwargs\u001b[49m\u001b[43m)\u001b[49m\n",
      "\u001b[0;31mValueError\u001b[0m: zero-size array to reduction operation maximum which has no identity"
     ]
    }
   ],
   "source": [
    "import parselmouth\n",
    "import numpy as np\n",
    "\n",
    "def compute_cpp(audio_file):\n",
    "    sound = parselmouth.Sound(audio_file)\n",
    "\n",
    "    spectrum = sound.to_spectrum()\n",
    "    log_spectrum = np.log(spectrum.values)\n",
    "    cepstrum = np.fft.irfft(log_spectrum, axis=0)\n",
    "    quefrency_min, quefrency_max = 3.3e-3, 16.7e-3\n",
    "\n",
    "    fs = sound.sampling_frequency\n",
    "    \n",
    "    n_samples = cepstrum.shape[0]\n",
    "\n",
    "    freq_resolution = fs / n_samples\n",
    "    \n",
    "    # Convert quefrency to frequency indices (quefrency = 1/frequency)\n",
    "    min_freq = 1 / quefrency_max  # Frequency for quefrency_min\n",
    "    max_freq = 1 / quefrency_min  # Frequency for quefrency_max\n",
    "    \n",
    "    # Convert frequencies to indices (based on frequency resolution)\n",
    "    min_index = int(min_freq / freq_resolution)\n",
    "    max_index = int(max_freq / freq_resolution)\n",
    "    \n",
    "    # Check size of cepstrum array to ensure the indices are valid\n",
    "    cepstrum_size = cepstrum.shape\n",
    "    print(f\"Size of cepstrum: {cepstrum_size}\")\n",
    "    \n",
    "    # Ensure the indices are within bounds\n",
    "    if min_index < 0 or max_index >= cepstrum_size[0]:\n",
    "        raise ValueError(f\"Invalid index range: min_index={min_index}, max_index={max_index} for cepstrum size {cepstrum_size}\")\n",
    "    \n",
    "    # Extract the peak in the desired quefrency range (real part only)\n",
    "    peak_magnitudes = []\n",
    "    for frame in range(spectrum.nx):\n",
    "        # Get the entire cepstrum column for this frame (real part)\n",
    "        column = cepstrum[:, frame]  # Access entire column (all frequency bins)\n",
    "        peak_value = np.max(column[min_index:max_index])  # Maximum peak in range\n",
    "        peak_magnitudes.append(peak_value)\n",
    "    \n",
    "    # Compute noise floor (average cepstral magnitude excluding peak)\n",
    "    noise_floor_values = []\n",
    "    for frame in range(spectrum.nx):\n",
    "        column = cepstrum[:, frame]  # Access entire column (real part)\n",
    "        noise_floor = np.mean(column)  # Mean cepstrum magnitude (approx. noise)\n",
    "        noise_floor_values.append(noise_floor)\n",
    "    \n",
    "    # Calculate CPP: Difference between peak magnitude and noise floor (in dB)\n",
    "    cpp_values = 10 * np.log10(np.array(peak_magnitudes) / np.array(noise_floor_values))\n",
    "    \n",
    "    # Return the mean CPP across frames\n",
    "    return np.mean(cpp_values)\n",
    "\n",
    "# Example usage\n",
    "cpp = compute_cpp('audio_files_pre/VOW/1234568/1234568_0_VOW_1_pre.wav')\n",
    "print(f\"Mean Cepstral Peak Prominence (CPP): {cpp:.2f} dB\")"
   ]
  }
 ],
 "metadata": {
  "kernelspec": {
   "display_name": "rp2",
   "language": "python",
   "name": "rp2"
  },
  "language_info": {
   "codemirror_mode": {
    "name": "ipython",
    "version": 3
   },
   "file_extension": ".py",
   "mimetype": "text/x-python",
   "name": "python",
   "nbconvert_exporter": "python",
   "pygments_lexer": "ipython3",
   "version": "3.10.16"
  }
 },
 "nbformat": 4,
 "nbformat_minor": 2
}
